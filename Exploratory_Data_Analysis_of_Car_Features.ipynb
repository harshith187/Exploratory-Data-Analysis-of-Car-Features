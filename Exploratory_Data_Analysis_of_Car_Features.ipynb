{
  "nbformat": 4,
  "nbformat_minor": 0,
  "metadata": {
    "colab": {
      "name": "Exploratory Data Analysis of Car Features.ipynb",
      "provenance": [],
      "mount_file_id": "1nVj04LiTvlTJR5Ru47b0c9qMSGPDLuZC",
      "authorship_tag": "ABX9TyNpxDCT8L4mOgxq/FG4gTw5",
      "include_colab_link": true
    },
    "kernelspec": {
      "name": "python3",
      "display_name": "Python 3"
    }
  },
  "cells": [
    {
      "cell_type": "markdown",
      "metadata": {
        "id": "view-in-github",
        "colab_type": "text"
      },
      "source": [
        "<a href=\"https://colab.research.google.com/github/harshith187/Exploratory-Data-Analysis-of-Car-Features/blob/master/Exploratory_Data_Analysis_of_Car_Features.ipynb\" target=\"_parent\"><img src=\"https://colab.research.google.com/assets/colab-badge.svg\" alt=\"Open In Colab\"/></a>"
      ]
    },
    {
      "cell_type": "markdown",
      "metadata": {
        "id": "jrt4qKJ5jhUi",
        "colab_type": "text"
      },
      "source": [
        "# **Exploratory Data Analysis of Car Features**"
      ]
    },
    {
      "cell_type": "markdown",
      "metadata": {
        "id": "kPiBKHL9jlHb",
        "colab_type": "text"
      },
      "source": [
        "As a data scientist, the majority of your time will be spent on data pre-processing i.e. making sure you have the right data in the right format. Once this is done, you get a sense of your dataset through applying some descriptive statistics and then, you move on to the exploration stage wherein you plot various graphs and mine the hidden insights. In this project, you as a data scientist are expected to perform Exploratory data analysis on how the different features of a car and its price are related. The data comes from the Kaggle dataset \"Car Features and MSRP\". It describes almost 12,000 car models, sold in the USA between 1990 and 2017, with the market price (new or used) and some features.\n"
      ]
    },
    {
      "cell_type": "markdown",
      "metadata": {
        "id": "azGLDer1jtZV",
        "colab_type": "text"
      },
      "source": [
        "### ![download.jpeg](data:image/jpeg;base64,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)"
      ]
    },
    {
      "cell_type": "markdown",
      "metadata": {
        "id": "KgNRRpX3kLBn",
        "colab_type": "text"
      },
      "source": [
        "*The objective of the project is to do data pre-processing and exploratory data analysis of the dataset*"
      ]
    },
    {
      "cell_type": "markdown",
      "metadata": {
        "id": "3z9OyBYij6bb",
        "colab_type": "text"
      },
      "source": [
        "## **Data Description**"
      ]
    },
    {
      "cell_type": "code",
      "metadata": {
        "id": "UG_pOeTTk73W",
        "colab_type": "code",
        "colab": {}
      },
      "source": [
        "# Make                Car Make\n",
        "# Model               Car Model\n",
        "# Year                Car Year (Marketing)\n",
        "# Engine Fuel Type    Engine Fuel Type\n",
        "# Engine HP           Engine Horse Power (HP)\n",
        "# Engine Cylinders    Engine Cylinders\n",
        "# Transmission Type   Transmission Type\n",
        "# Driven_Wheels       Driven Wheels\n",
        "# Number of Doors     Number of Doors\n",
        "# Market Category     Market Category\n",
        "# Vehicle Size        Size of Vehicle\n",
        "# Vehicle Style       Type of Vehicle\n",
        "# highway MPG         Highway MPG\n",
        "# city mpg            City MPG\n",
        "# Popularity          Popularity (Twitter)\n",
        "# MSRP                Manufacturer Suggested Retail Price"
      ],
      "execution_count": 1,
      "outputs": []
    },
    {
      "cell_type": "markdown",
      "metadata": {
        "id": "BRLUuQQhk84j",
        "colab_type": "text"
      },
      "source": [
        "**1.1 Import the necessary libraries**"
      ]
    },
    {
      "cell_type": "code",
      "metadata": {
        "id": "VPExTWeqlIc2",
        "colab_type": "code",
        "colab": {
          "base_uri": "https://localhost:8080/",
          "height": 71
        },
        "outputId": "1bda9557-70a0-44b7-cfcd-38a7e253f65b"
      },
      "source": [
        "from sklearn.model_selection import train_test_split, cross_val_score, GridSearchCV\n",
        "from sklearn.preprocessing import LabelEncoder, StandardScaler\n",
        "from sklearn.ensemble import RandomForestRegressor\n",
        "from sklearn.metrics import mean_squared_error,r2_score,mean_absolute_error\n",
        "import matplotlib.pyplot as plt\n",
        "import seaborn as sns\n",
        "import pandas as pd\n",
        "import numpy as np\n"
      ],
      "execution_count": 2,
      "outputs": [
        {
          "output_type": "stream",
          "text": [
            "/usr/local/lib/python3.6/dist-packages/statsmodels/tools/_testing.py:19: FutureWarning: pandas.util.testing is deprecated. Use the functions in the public API at pandas.testing instead.\n",
            "  import pandas.util.testing as tm\n"
          ],
          "name": "stderr"
        }
      ]
    },
    {
      "cell_type": "markdown",
      "metadata": {
        "id": "ZeABTcHtrtna",
        "colab_type": "text"
      },
      "source": [
        "**1.2 import the data and take a look at it's top 5 rows**"
      ]
    },
    {
      "cell_type": "code",
      "metadata": {
        "id": "kguRCpUVmcJD",
        "colab_type": "code",
        "colab": {
          "base_uri": "https://localhost:8080/",
          "height": 408
        },
        "outputId": "bc3be2ed-5de6-4cec-f73b-a5d867739f9f"
      },
      "source": [
        "car_feature_data = pd.read_csv('/content/drive/My Drive/data.csv')\n",
        "car_feature_data.head()\n"
      ],
      "execution_count": 3,
      "outputs": [
        {
          "output_type": "execute_result",
          "data": {
            "text/html": [
              "<div>\n",
              "<style scoped>\n",
              "    .dataframe tbody tr th:only-of-type {\n",
              "        vertical-align: middle;\n",
              "    }\n",
              "\n",
              "    .dataframe tbody tr th {\n",
              "        vertical-align: top;\n",
              "    }\n",
              "\n",
              "    .dataframe thead th {\n",
              "        text-align: right;\n",
              "    }\n",
              "</style>\n",
              "<table border=\"1\" class=\"dataframe\">\n",
              "  <thead>\n",
              "    <tr style=\"text-align: right;\">\n",
              "      <th></th>\n",
              "      <th>Make</th>\n",
              "      <th>Model</th>\n",
              "      <th>Year</th>\n",
              "      <th>Engine Fuel Type</th>\n",
              "      <th>Engine HP</th>\n",
              "      <th>Engine Cylinders</th>\n",
              "      <th>Transmission Type</th>\n",
              "      <th>Driven_Wheels</th>\n",
              "      <th>Number of Doors</th>\n",
              "      <th>Market Category</th>\n",
              "      <th>Vehicle Size</th>\n",
              "      <th>Vehicle Style</th>\n",
              "      <th>highway MPG</th>\n",
              "      <th>city mpg</th>\n",
              "      <th>Popularity</th>\n",
              "      <th>MSRP</th>\n",
              "    </tr>\n",
              "  </thead>\n",
              "  <tbody>\n",
              "    <tr>\n",
              "      <th>0</th>\n",
              "      <td>BMW</td>\n",
              "      <td>1 Series M</td>\n",
              "      <td>2011</td>\n",
              "      <td>premium unleaded (required)</td>\n",
              "      <td>335.0</td>\n",
              "      <td>6.0</td>\n",
              "      <td>MANUAL</td>\n",
              "      <td>rear wheel drive</td>\n",
              "      <td>2.0</td>\n",
              "      <td>Factory Tuner,Luxury,High-Performance</td>\n",
              "      <td>Compact</td>\n",
              "      <td>Coupe</td>\n",
              "      <td>26</td>\n",
              "      <td>19</td>\n",
              "      <td>3916</td>\n",
              "      <td>46135</td>\n",
              "    </tr>\n",
              "    <tr>\n",
              "      <th>1</th>\n",
              "      <td>BMW</td>\n",
              "      <td>1 Series</td>\n",
              "      <td>2011</td>\n",
              "      <td>premium unleaded (required)</td>\n",
              "      <td>300.0</td>\n",
              "      <td>6.0</td>\n",
              "      <td>MANUAL</td>\n",
              "      <td>rear wheel drive</td>\n",
              "      <td>2.0</td>\n",
              "      <td>Luxury,Performance</td>\n",
              "      <td>Compact</td>\n",
              "      <td>Convertible</td>\n",
              "      <td>28</td>\n",
              "      <td>19</td>\n",
              "      <td>3916</td>\n",
              "      <td>40650</td>\n",
              "    </tr>\n",
              "    <tr>\n",
              "      <th>2</th>\n",
              "      <td>BMW</td>\n",
              "      <td>1 Series</td>\n",
              "      <td>2011</td>\n",
              "      <td>premium unleaded (required)</td>\n",
              "      <td>300.0</td>\n",
              "      <td>6.0</td>\n",
              "      <td>MANUAL</td>\n",
              "      <td>rear wheel drive</td>\n",
              "      <td>2.0</td>\n",
              "      <td>Luxury,High-Performance</td>\n",
              "      <td>Compact</td>\n",
              "      <td>Coupe</td>\n",
              "      <td>28</td>\n",
              "      <td>20</td>\n",
              "      <td>3916</td>\n",
              "      <td>36350</td>\n",
              "    </tr>\n",
              "    <tr>\n",
              "      <th>3</th>\n",
              "      <td>BMW</td>\n",
              "      <td>1 Series</td>\n",
              "      <td>2011</td>\n",
              "      <td>premium unleaded (required)</td>\n",
              "      <td>230.0</td>\n",
              "      <td>6.0</td>\n",
              "      <td>MANUAL</td>\n",
              "      <td>rear wheel drive</td>\n",
              "      <td>2.0</td>\n",
              "      <td>Luxury,Performance</td>\n",
              "      <td>Compact</td>\n",
              "      <td>Coupe</td>\n",
              "      <td>28</td>\n",
              "      <td>18</td>\n",
              "      <td>3916</td>\n",
              "      <td>29450</td>\n",
              "    </tr>\n",
              "    <tr>\n",
              "      <th>4</th>\n",
              "      <td>BMW</td>\n",
              "      <td>1 Series</td>\n",
              "      <td>2011</td>\n",
              "      <td>premium unleaded (required)</td>\n",
              "      <td>230.0</td>\n",
              "      <td>6.0</td>\n",
              "      <td>MANUAL</td>\n",
              "      <td>rear wheel drive</td>\n",
              "      <td>2.0</td>\n",
              "      <td>Luxury</td>\n",
              "      <td>Compact</td>\n",
              "      <td>Convertible</td>\n",
              "      <td>28</td>\n",
              "      <td>18</td>\n",
              "      <td>3916</td>\n",
              "      <td>34500</td>\n",
              "    </tr>\n",
              "  </tbody>\n",
              "</table>\n",
              "</div>"
            ],
            "text/plain": [
              "  Make       Model  Year  ... city mpg  Popularity   MSRP\n",
              "0  BMW  1 Series M  2011  ...       19        3916  46135\n",
              "1  BMW    1 Series  2011  ...       19        3916  40650\n",
              "2  BMW    1 Series  2011  ...       20        3916  36350\n",
              "3  BMW    1 Series  2011  ...       18        3916  29450\n",
              "4  BMW    1 Series  2011  ...       18        3916  34500\n",
              "\n",
              "[5 rows x 16 columns]"
            ]
          },
          "metadata": {
            "tags": []
          },
          "execution_count": 3
        }
      ]
    },
    {
      "cell_type": "markdown",
      "metadata": {
        "id": "EswTSwcbGA8F",
        "colab_type": "text"
      },
      "source": [
        "**1.3 Data structure**"
      ]
    },
    {
      "cell_type": "markdown",
      "metadata": {
        "id": "V11NBKfcsJQC",
        "colab_type": "text"
      },
      "source": [
        "Now lets see the datatypes and if there are any null values in the dataset\n"
      ]
    },
    {
      "cell_type": "code",
      "metadata": {
        "id": "iPxHnnciGZr4",
        "colab_type": "code",
        "colab": {
          "base_uri": "https://localhost:8080/",
          "height": 408
        },
        "outputId": "62eecf37-11ec-4e7c-80e2-56f9f92482d8"
      },
      "source": [
        "car_feature_data.info()"
      ],
      "execution_count": 4,
      "outputs": [
        {
          "output_type": "stream",
          "text": [
            "<class 'pandas.core.frame.DataFrame'>\n",
            "RangeIndex: 11914 entries, 0 to 11913\n",
            "Data columns (total 16 columns):\n",
            " #   Column             Non-Null Count  Dtype  \n",
            "---  ------             --------------  -----  \n",
            " 0   Make               11914 non-null  object \n",
            " 1   Model              11914 non-null  object \n",
            " 2   Year               11914 non-null  int64  \n",
            " 3   Engine Fuel Type   11911 non-null  object \n",
            " 4   Engine HP          11845 non-null  float64\n",
            " 5   Engine Cylinders   11884 non-null  float64\n",
            " 6   Transmission Type  11914 non-null  object \n",
            " 7   Driven_Wheels      11914 non-null  object \n",
            " 8   Number of Doors    11908 non-null  float64\n",
            " 9   Market Category    8172 non-null   object \n",
            " 10  Vehicle Size       11914 non-null  object \n",
            " 11  Vehicle Style      11914 non-null  object \n",
            " 12  highway MPG        11914 non-null  int64  \n",
            " 13  city mpg           11914 non-null  int64  \n",
            " 14  Popularity         11914 non-null  int64  \n",
            " 15  MSRP               11914 non-null  int64  \n",
            "dtypes: float64(3), int64(5), object(8)\n",
            "memory usage: 1.5+ MB\n"
          ],
          "name": "stdout"
        }
      ]
    },
    {
      "cell_type": "markdown",
      "metadata": {
        "id": "gvN6CJBoGgiX",
        "colab_type": "text"
      },
      "source": [
        "From the above output we can see that the columns of dataset are made of different datatypes like object, float, int.\n",
        "We can also see that there are null values in 'Engine Fuel Type', 'Engine HP', 'Engine Cylinders', 'Number of Doors', 'Market Category'\n",
        "\n",
        "Now we'll see a clear cut look and count of null values"
      ]
    },
    {
      "cell_type": "code",
      "metadata": {
        "id": "SxPN7LXhHXV-",
        "colab_type": "code",
        "colab": {
          "base_uri": "https://localhost:8080/",
          "height": 306
        },
        "outputId": "55e878bb-9875-4ae8-eb8e-ed2def46dc22"
      },
      "source": [
        "car_feature_data.isnull().sum()"
      ],
      "execution_count": 5,
      "outputs": [
        {
          "output_type": "execute_result",
          "data": {
            "text/plain": [
              "Make                    0\n",
              "Model                   0\n",
              "Year                    0\n",
              "Engine Fuel Type        3\n",
              "Engine HP              69\n",
              "Engine Cylinders       30\n",
              "Transmission Type       0\n",
              "Driven_Wheels           0\n",
              "Number of Doors         6\n",
              "Market Category      3742\n",
              "Vehicle Size            0\n",
              "Vehicle Style           0\n",
              "highway MPG             0\n",
              "city mpg                0\n",
              "Popularity              0\n",
              "MSRP                    0\n",
              "dtype: int64"
            ]
          },
          "metadata": {
            "tags": []
          },
          "execution_count": 5
        }
      ]
    },
    {
      "cell_type": "markdown",
      "metadata": {
        "id": "ym5XUxRiHkF1",
        "colab_type": "text"
      },
      "source": [
        "From the above output we can see the null value counts of different columns\n",
        "\n",
        "Now let's see the statistical summary of the dataset using describe() function and the shape of the dataframe\n"
      ]
    },
    {
      "cell_type": "code",
      "metadata": {
        "id": "zP8HMOQlIDtN",
        "colab_type": "code",
        "colab": {
          "base_uri": "https://localhost:8080/",
          "height": 297
        },
        "outputId": "764230db-b29b-4e5a-8b2d-842ac7778883"
      },
      "source": [
        "car_feature_data.describe()"
      ],
      "execution_count": 6,
      "outputs": [
        {
          "output_type": "execute_result",
          "data": {
            "text/html": [
              "<div>\n",
              "<style scoped>\n",
              "    .dataframe tbody tr th:only-of-type {\n",
              "        vertical-align: middle;\n",
              "    }\n",
              "\n",
              "    .dataframe tbody tr th {\n",
              "        vertical-align: top;\n",
              "    }\n",
              "\n",
              "    .dataframe thead th {\n",
              "        text-align: right;\n",
              "    }\n",
              "</style>\n",
              "<table border=\"1\" class=\"dataframe\">\n",
              "  <thead>\n",
              "    <tr style=\"text-align: right;\">\n",
              "      <th></th>\n",
              "      <th>Year</th>\n",
              "      <th>Engine HP</th>\n",
              "      <th>Engine Cylinders</th>\n",
              "      <th>Number of Doors</th>\n",
              "      <th>highway MPG</th>\n",
              "      <th>city mpg</th>\n",
              "      <th>Popularity</th>\n",
              "      <th>MSRP</th>\n",
              "    </tr>\n",
              "  </thead>\n",
              "  <tbody>\n",
              "    <tr>\n",
              "      <th>count</th>\n",
              "      <td>11914.000000</td>\n",
              "      <td>11845.00000</td>\n",
              "      <td>11884.000000</td>\n",
              "      <td>11908.000000</td>\n",
              "      <td>11914.000000</td>\n",
              "      <td>11914.000000</td>\n",
              "      <td>11914.000000</td>\n",
              "      <td>1.191400e+04</td>\n",
              "    </tr>\n",
              "    <tr>\n",
              "      <th>mean</th>\n",
              "      <td>2010.384338</td>\n",
              "      <td>249.38607</td>\n",
              "      <td>5.628829</td>\n",
              "      <td>3.436093</td>\n",
              "      <td>26.637485</td>\n",
              "      <td>19.733255</td>\n",
              "      <td>1554.911197</td>\n",
              "      <td>4.059474e+04</td>\n",
              "    </tr>\n",
              "    <tr>\n",
              "      <th>std</th>\n",
              "      <td>7.579740</td>\n",
              "      <td>109.19187</td>\n",
              "      <td>1.780559</td>\n",
              "      <td>0.881315</td>\n",
              "      <td>8.863001</td>\n",
              "      <td>8.987798</td>\n",
              "      <td>1441.855347</td>\n",
              "      <td>6.010910e+04</td>\n",
              "    </tr>\n",
              "    <tr>\n",
              "      <th>min</th>\n",
              "      <td>1990.000000</td>\n",
              "      <td>55.00000</td>\n",
              "      <td>0.000000</td>\n",
              "      <td>2.000000</td>\n",
              "      <td>12.000000</td>\n",
              "      <td>7.000000</td>\n",
              "      <td>2.000000</td>\n",
              "      <td>2.000000e+03</td>\n",
              "    </tr>\n",
              "    <tr>\n",
              "      <th>25%</th>\n",
              "      <td>2007.000000</td>\n",
              "      <td>170.00000</td>\n",
              "      <td>4.000000</td>\n",
              "      <td>2.000000</td>\n",
              "      <td>22.000000</td>\n",
              "      <td>16.000000</td>\n",
              "      <td>549.000000</td>\n",
              "      <td>2.100000e+04</td>\n",
              "    </tr>\n",
              "    <tr>\n",
              "      <th>50%</th>\n",
              "      <td>2015.000000</td>\n",
              "      <td>227.00000</td>\n",
              "      <td>6.000000</td>\n",
              "      <td>4.000000</td>\n",
              "      <td>26.000000</td>\n",
              "      <td>18.000000</td>\n",
              "      <td>1385.000000</td>\n",
              "      <td>2.999500e+04</td>\n",
              "    </tr>\n",
              "    <tr>\n",
              "      <th>75%</th>\n",
              "      <td>2016.000000</td>\n",
              "      <td>300.00000</td>\n",
              "      <td>6.000000</td>\n",
              "      <td>4.000000</td>\n",
              "      <td>30.000000</td>\n",
              "      <td>22.000000</td>\n",
              "      <td>2009.000000</td>\n",
              "      <td>4.223125e+04</td>\n",
              "    </tr>\n",
              "    <tr>\n",
              "      <th>max</th>\n",
              "      <td>2017.000000</td>\n",
              "      <td>1001.00000</td>\n",
              "      <td>16.000000</td>\n",
              "      <td>4.000000</td>\n",
              "      <td>354.000000</td>\n",
              "      <td>137.000000</td>\n",
              "      <td>5657.000000</td>\n",
              "      <td>2.065902e+06</td>\n",
              "    </tr>\n",
              "  </tbody>\n",
              "</table>\n",
              "</div>"
            ],
            "text/plain": [
              "               Year    Engine HP  ...    Popularity          MSRP\n",
              "count  11914.000000  11845.00000  ...  11914.000000  1.191400e+04\n",
              "mean    2010.384338    249.38607  ...   1554.911197  4.059474e+04\n",
              "std        7.579740    109.19187  ...   1441.855347  6.010910e+04\n",
              "min     1990.000000     55.00000  ...      2.000000  2.000000e+03\n",
              "25%     2007.000000    170.00000  ...    549.000000  2.100000e+04\n",
              "50%     2015.000000    227.00000  ...   1385.000000  2.999500e+04\n",
              "75%     2016.000000    300.00000  ...   2009.000000  4.223125e+04\n",
              "max     2017.000000   1001.00000  ...   5657.000000  2.065902e+06\n",
              "\n",
              "[8 rows x 8 columns]"
            ]
          },
          "metadata": {
            "tags": []
          },
          "execution_count": 6
        }
      ]
    },
    {
      "cell_type": "code",
      "metadata": {
        "id": "kfhpCmlCIUO9",
        "colab_type": "code",
        "colab": {
          "base_uri": "https://localhost:8080/",
          "height": 34
        },
        "outputId": "51f536d7-a08b-4711-af52-c7099ab4da30"
      },
      "source": [
        "car_feature_data.shape"
      ],
      "execution_count": 7,
      "outputs": [
        {
          "output_type": "execute_result",
          "data": {
            "text/plain": [
              "(11914, 16)"
            ]
          },
          "metadata": {
            "tags": []
          },
          "execution_count": 7
        }
      ]
    },
    {
      "cell_type": "markdown",
      "metadata": {
        "id": "SaUkPZE6Ih4S",
        "colab_type": "text"
      },
      "source": [
        "## **2. Drop irrelevant columns**"
      ]
    },
    {
      "cell_type": "markdown",
      "metadata": {
        "id": "sApkTfHFJEsS",
        "colab_type": "text"
      },
      "source": [
        "In the dataset we can see that there are irrelevant columns that do not make much difference in the prediction! so it would be better to drop those columns, this also saves the computational time.\n",
        "\n",
        "Number of doors in a car will not make difference in the prediction, because most of the cars have 4 doors. Similarly the Engine Fuel Type and the Market Category"
      ]
    },
    {
      "cell_type": "code",
      "metadata": {
        "id": "zF2g7VwHJ_4P",
        "colab_type": "code",
        "colab": {
          "base_uri": "https://localhost:8080/",
          "height": 34
        },
        "outputId": "52238711-1fc3-4323-9283-a9f375062837"
      },
      "source": [
        "car_feature_data.drop(columns = ['Engine Fuel Type','Number of Doors','Market Category'],axis=1,inplace=True)\n",
        "car_feature_data.shape"
      ],
      "execution_count": 8,
      "outputs": [
        {
          "output_type": "execute_result",
          "data": {
            "text/plain": [
              "(11914, 13)"
            ]
          },
          "metadata": {
            "tags": []
          },
          "execution_count": 8
        }
      ]
    },
    {
      "cell_type": "markdown",
      "metadata": {
        "id": "s1cerHfDKdgu",
        "colab_type": "text"
      },
      "source": [
        "We can see that the size of the  dataframe is reduced.It says the columns are removed succesfully"
      ]
    },
    {
      "cell_type": "markdown",
      "metadata": {
        "id": "u9d-8nRSKzSQ",
        "colab_type": "text"
      },
      "source": [
        "## **3. Rename columns**\n",
        "\n",
        "Rename the columns \"Engine HP\": \"HP\", \"Engine Cylinders\": \"Cylinders\", \"Transmission Type\": \"Transmission\", \"Driven_Wheels\": \"Drive Mode\",\"highway MPG\": \"MPG-H\", \"city mpg\": \"MPG-C\", \"MSRP\": \"Price\"\n"
      ]
    },
    {
      "cell_type": "code",
      "metadata": {
        "id": "1Lb0b3orKcSq",
        "colab_type": "code",
        "colab": {
          "base_uri": "https://localhost:8080/",
          "height": 204
        },
        "outputId": "f2ac6104-60fe-4df8-ff3f-1bb061c9289f"
      },
      "source": [
        "car_feature_data = car_feature_data.rename(columns={\"Engine HP\": \"HP\", \"Engine Cylinders\": \"Cylinders\", \"Transmission Type\": \"Transmission\", \"Driven_Wheels\": \"Drive Mode\",\"highway MPG\": \"MPG-H\", \"city mpg\": \"MPG-C\", \"MSRP\": \"Price\"})\n",
        "car_feature_data.head()"
      ],
      "execution_count": 9,
      "outputs": [
        {
          "output_type": "execute_result",
          "data": {
            "text/html": [
              "<div>\n",
              "<style scoped>\n",
              "    .dataframe tbody tr th:only-of-type {\n",
              "        vertical-align: middle;\n",
              "    }\n",
              "\n",
              "    .dataframe tbody tr th {\n",
              "        vertical-align: top;\n",
              "    }\n",
              "\n",
              "    .dataframe thead th {\n",
              "        text-align: right;\n",
              "    }\n",
              "</style>\n",
              "<table border=\"1\" class=\"dataframe\">\n",
              "  <thead>\n",
              "    <tr style=\"text-align: right;\">\n",
              "      <th></th>\n",
              "      <th>Make</th>\n",
              "      <th>Model</th>\n",
              "      <th>Year</th>\n",
              "      <th>HP</th>\n",
              "      <th>Cylinders</th>\n",
              "      <th>Transmission</th>\n",
              "      <th>Drive Mode</th>\n",
              "      <th>Vehicle Size</th>\n",
              "      <th>Vehicle Style</th>\n",
              "      <th>MPG-H</th>\n",
              "      <th>MPG-C</th>\n",
              "      <th>Popularity</th>\n",
              "      <th>Price</th>\n",
              "    </tr>\n",
              "  </thead>\n",
              "  <tbody>\n",
              "    <tr>\n",
              "      <th>0</th>\n",
              "      <td>BMW</td>\n",
              "      <td>1 Series M</td>\n",
              "      <td>2011</td>\n",
              "      <td>335.0</td>\n",
              "      <td>6.0</td>\n",
              "      <td>MANUAL</td>\n",
              "      <td>rear wheel drive</td>\n",
              "      <td>Compact</td>\n",
              "      <td>Coupe</td>\n",
              "      <td>26</td>\n",
              "      <td>19</td>\n",
              "      <td>3916</td>\n",
              "      <td>46135</td>\n",
              "    </tr>\n",
              "    <tr>\n",
              "      <th>1</th>\n",
              "      <td>BMW</td>\n",
              "      <td>1 Series</td>\n",
              "      <td>2011</td>\n",
              "      <td>300.0</td>\n",
              "      <td>6.0</td>\n",
              "      <td>MANUAL</td>\n",
              "      <td>rear wheel drive</td>\n",
              "      <td>Compact</td>\n",
              "      <td>Convertible</td>\n",
              "      <td>28</td>\n",
              "      <td>19</td>\n",
              "      <td>3916</td>\n",
              "      <td>40650</td>\n",
              "    </tr>\n",
              "    <tr>\n",
              "      <th>2</th>\n",
              "      <td>BMW</td>\n",
              "      <td>1 Series</td>\n",
              "      <td>2011</td>\n",
              "      <td>300.0</td>\n",
              "      <td>6.0</td>\n",
              "      <td>MANUAL</td>\n",
              "      <td>rear wheel drive</td>\n",
              "      <td>Compact</td>\n",
              "      <td>Coupe</td>\n",
              "      <td>28</td>\n",
              "      <td>20</td>\n",
              "      <td>3916</td>\n",
              "      <td>36350</td>\n",
              "    </tr>\n",
              "    <tr>\n",
              "      <th>3</th>\n",
              "      <td>BMW</td>\n",
              "      <td>1 Series</td>\n",
              "      <td>2011</td>\n",
              "      <td>230.0</td>\n",
              "      <td>6.0</td>\n",
              "      <td>MANUAL</td>\n",
              "      <td>rear wheel drive</td>\n",
              "      <td>Compact</td>\n",
              "      <td>Coupe</td>\n",
              "      <td>28</td>\n",
              "      <td>18</td>\n",
              "      <td>3916</td>\n",
              "      <td>29450</td>\n",
              "    </tr>\n",
              "    <tr>\n",
              "      <th>4</th>\n",
              "      <td>BMW</td>\n",
              "      <td>1 Series</td>\n",
              "      <td>2011</td>\n",
              "      <td>230.0</td>\n",
              "      <td>6.0</td>\n",
              "      <td>MANUAL</td>\n",
              "      <td>rear wheel drive</td>\n",
              "      <td>Compact</td>\n",
              "      <td>Convertible</td>\n",
              "      <td>28</td>\n",
              "      <td>18</td>\n",
              "      <td>3916</td>\n",
              "      <td>34500</td>\n",
              "    </tr>\n",
              "  </tbody>\n",
              "</table>\n",
              "</div>"
            ],
            "text/plain": [
              "  Make       Model  Year     HP  ...  MPG-H MPG-C Popularity  Price\n",
              "0  BMW  1 Series M  2011  335.0  ...     26    19       3916  46135\n",
              "1  BMW    1 Series  2011  300.0  ...     28    19       3916  40650\n",
              "2  BMW    1 Series  2011  300.0  ...     28    20       3916  36350\n",
              "3  BMW    1 Series  2011  230.0  ...     28    18       3916  29450\n",
              "4  BMW    1 Series  2011  230.0  ...     28    18       3916  34500\n",
              "\n",
              "[5 rows x 13 columns]"
            ]
          },
          "metadata": {
            "tags": []
          },
          "execution_count": 9
        }
      ]
    },
    {
      "cell_type": "markdown",
      "metadata": {
        "id": "L4UOTTnCLAcb",
        "colab_type": "text"
      },
      "source": [
        "## **4. Check for duplicate and missing values**"
      ]
    },
    {
      "cell_type": "markdown",
      "metadata": {
        "id": "4mQ6K-TLLNpC",
        "colab_type": "text"
      },
      "source": [
        "\n",
        "**4.1** **Check and remove duplicates**\n",
        "\n",
        " An important part of Data analysis is analyzing Duplicate Values and removing them. Lets check for the duplicate data in the dataset and remove them, because they are not going to help our model as training a model with the same data makes no sence. Pandas duplicated() method helps in analyzing duplicate values only. It returns a boolean series which is True only for Unique elements."
      ]
    },
    {
      "cell_type": "code",
      "metadata": {
        "id": "YB8D8TrsLwz1",
        "colab_type": "code",
        "colab": {
          "base_uri": "https://localhost:8080/",
          "height": 51
        },
        "outputId": "bb6bd571-efbb-476d-88ce-792e971497ea"
      },
      "source": [
        "print('There are ',car_feature_data.duplicated().sum(),' duplicate rows in the dataset')\n",
        "car_feature_data.drop_duplicates(keep='first',inplace=True)\n",
        "print('Duplicates count after removing the duplicates ',car_feature_data.duplicated().sum())"
      ],
      "execution_count": 10,
      "outputs": [
        {
          "output_type": "stream",
          "text": [
            "There are  792  duplicate rows in the dataset\n",
            "Duplicates count after removing the duplicates  0\n"
          ],
          "name": "stdout"
        }
      ]
    },
    {
      "cell_type": "markdown",
      "metadata": {
        "id": "2OQTaiO7M33m",
        "colab_type": "text"
      },
      "source": [
        "From the above output we can see that all the duplicate rows in dataset is removed"
      ]
    },
    {
      "cell_type": "markdown",
      "metadata": {
        "id": "FKTXVksYNJiO",
        "colab_type": "text"
      },
      "source": [
        "**4.2** \n",
        "**Check for missing values and remove that row**\n",
        "\n",
        " Now we'll check for the missing values and remove those rows. Missing Data is a very big problem in real life scenario. Missing Data can also refer to as NA(Not Available) values. Machine learning and data mining face severe issues in the accuracy of their model predictions because of poor quality of data caused by missing values. In these areas, missing value treatment is a major point of focus to make their models more accurate and valid"
      ]
    },
    {
      "cell_type": "code",
      "metadata": {
        "id": "L_bGM8XrOT43",
        "colab_type": "code",
        "colab": {
          "base_uri": "https://localhost:8080/",
          "height": 34
        },
        "outputId": "f3e074dc-2bcc-4db5-91c2-58f9e45ec715"
      },
      "source": [
        "car_feature_data.dropna(inplace=True)\n",
        "car_feature_data.shape"
      ],
      "execution_count": 11,
      "outputs": [
        {
          "output_type": "execute_result",
          "data": {
            "text/plain": [
              "(11024, 13)"
            ]
          },
          "metadata": {
            "tags": []
          },
          "execution_count": 11
        }
      ]
    },
    {
      "cell_type": "markdown",
      "metadata": {
        "id": "OZgKXmUYPBFX",
        "colab_type": "text"
      },
      "source": [
        "The output says that the dataframe size is reduced which means the rows with null values are removed succesfully"
      ]
    },
    {
      "cell_type": "markdown",
      "metadata": {
        "id": "ZbiQXOnjyjIL",
        "colab_type": "text"
      },
      "source": [
        "## **5. Detecting Outliers**\n",
        "\n",
        "Outliers are the set of points which are different from other commenly occuring data. Those points lie far away and effect the model's performance. So it would be a good practice to detect and remove the outliers. Now i'am going to use IQR technique to remove the outliers"
      ]
    },
    {
      "cell_type": "markdown",
      "metadata": {
        "id": "hyPZfUVz0THn",
        "colab_type": "text"
      },
      "source": [
        "**5.1** **Plot and check for outliers**\n",
        "\n",
        "With the complex set of data box plot would be a better choice for visualising data.\n",
        "Know lets plot graphs of various columns to check for outliers"
      ]
    },
    {
      "cell_type": "code",
      "metadata": {
        "id": "kXrjo4nK0vIL",
        "colab_type": "code",
        "colab": {
          "base_uri": "https://localhost:8080/",
          "height": 296
        },
        "outputId": "16ecdcbc-203c-4709-873a-986bcc4909e0"
      },
      "source": [
        "sns.boxplot(x = car_feature_data['Price'])"
      ],
      "execution_count": 12,
      "outputs": [
        {
          "output_type": "execute_result",
          "data": {
            "text/plain": [
              "<matplotlib.axes._subplots.AxesSubplot at 0x7f86e2b5df28>"
            ]
          },
          "metadata": {
            "tags": []
          },
          "execution_count": 12
        },
        {
          "output_type": "display_data",
          "data": {
            "image/png": "[encoded data removed]",
            "text/plain": [
              "<Figure size 432x288 with 1 Axes>"
            ]
          },
          "metadata": {
            "tags": [],
            "needs_background": "light"
          }
        }
      ]
    },
    {
      "cell_type": "code",
      "metadata": {
        "id": "eHwnZnhT1Df2",
        "colab_type": "code",
        "colab": {
          "base_uri": "https://localhost:8080/",
          "height": 296
        },
        "outputId": "74b5123e-d18d-453d-e439-52c729bddb07"
      },
      "source": [
        "sns.boxplot(x=car_feature_data['Cylinders'])"
      ],
      "execution_count": 13,
      "outputs": [
        {
          "output_type": "execute_result",
          "data": {
            "text/plain": [
              "<matplotlib.axes._subplots.AxesSubplot at 0x7f86e2a965f8>"
            ]
          },
          "metadata": {
            "tags": []
          },
          "execution_count": 13
        },
        {
          "output_type": "display_data",
          "data": {
            "image/png": "[encoded data removed]",
            "text/plain": [
              "<Figure size 432x288 with 1 Axes>"
            ]
          },
          "metadata": {
            "tags": [],
            "needs_background": "light"
          }
        }
      ]
    },
    {
      "cell_type": "code",
      "metadata": {
        "id": "bvAyiHZ21U4L",
        "colab_type": "code",
        "colab": {
          "base_uri": "https://localhost:8080/",
          "height": 296
        },
        "outputId": "f8fbfe5d-2b57-456f-b1df-a616c2472834"
      },
      "source": [
        "sns.boxplot(x=car_feature_data['Popularity'])"
      ],
      "execution_count": 14,
      "outputs": [
        {
          "output_type": "execute_result",
          "data": {
            "text/plain": [
              "<matplotlib.axes._subplots.AxesSubplot at 0x7f86e25c7048>"
            ]
          },
          "metadata": {
            "tags": []
          },
          "execution_count": 14
        },
        {
          "output_type": "display_data",
          "data": {
            "image/png": "[encoded data removed]",
            "text/plain": [
              "<Figure size 432x288 with 1 Axes>"
            ]
          },
          "metadata": {
            "tags": [],
            "needs_background": "light"
          }
        }
      ]
    },
    {
      "cell_type": "code",
      "metadata": {
        "id": "FKI6VW_i1cpm",
        "colab_type": "code",
        "colab": {
          "base_uri": "https://localhost:8080/",
          "height": 296
        },
        "outputId": "4508dc07-1c9f-4f57-d41e-c83800a940ce"
      },
      "source": [
        "sns.boxplot(x=car_feature_data['MPG-C'])"
      ],
      "execution_count": 15,
      "outputs": [
        {
          "output_type": "execute_result",
          "data": {
            "text/plain": [
              "<matplotlib.axes._subplots.AxesSubplot at 0x7f86e2530780>"
            ]
          },
          "metadata": {
            "tags": []
          },
          "execution_count": 15
        },
        {
          "output_type": "display_data",
          "data": {
            "image/png": "[encoded data removed]",
            "text/plain": [
              "<Figure size 432x288 with 1 Axes>"
            ]
          },
          "metadata": {
            "tags": [],
            "needs_background": "light"
          }
        }
      ]
    },
    {
      "cell_type": "code",
      "metadata": {
        "id": "pCQPUZJZ1kWO",
        "colab_type": "code",
        "colab": {
          "base_uri": "https://localhost:8080/",
          "height": 296
        },
        "outputId": "52623694-e933-475f-cae0-c704877f6cf0"
      },
      "source": [
        "sns.boxplot(x=car_feature_data['HP'])"
      ],
      "execution_count": 16,
      "outputs": [
        {
          "output_type": "execute_result",
          "data": {
            "text/plain": [
              "<matplotlib.axes._subplots.AxesSubplot at 0x7f86e2512710>"
            ]
          },
          "metadata": {
            "tags": []
          },
          "execution_count": 16
        },
        {
          "output_type": "display_data",
          "data": {
            "image/png": "[encoded data removed]",
            "text/plain": [
              "<Figure size 432x288 with 1 Axes>"
            ]
          },
          "metadata": {
            "tags": [],
            "needs_background": "light"
          }
        }
      ]
    },
    {
      "cell_type": "markdown",
      "metadata": {
        "id": "1ajJDZMH1uiP",
        "colab_type": "text"
      },
      "source": [
        "From the diagrams we can see that there are many outliers which has to be removed"
      ]
    },
    {
      "cell_type": "markdown",
      "metadata": {
        "id": "UAfFyDvk13mY",
        "colab_type": "text"
      },
      "source": [
        "**5.2** **Remove outliers**\n",
        "\n",
        "Now lets remove the outliers by IQR technique"
      ]
    },
    {
      "cell_type": "code",
      "metadata": {
        "id": "hXQ8lNPr2eo8",
        "colab_type": "code",
        "colab": {}
      },
      "source": [
        "Q1 = car_feature_data.quantile(0.25)\n",
        "Q3 = car_feature_data.quantile(0.75)\n",
        "IQR = Q3 - Q1\n",
        "car_feature_data = car_feature_data[~((car_feature_data < (Q1 - 1.5 * IQR)) |(car_feature_data > (Q3 + 1.5 * IQR))).any(axis=1)]"
      ],
      "execution_count": 17,
      "outputs": []
    },
    {
      "cell_type": "code",
      "metadata": {
        "id": "T7uIGkDN2wOR",
        "colab_type": "code",
        "colab": {
          "base_uri": "https://localhost:8080/",
          "height": 34
        },
        "outputId": "ecdb1fbb-2e96-4f6c-aa6b-96022c43ac5f"
      },
      "source": [
        "car_feature_data.shape\n"
      ],
      "execution_count": 18,
      "outputs": [
        {
          "output_type": "execute_result",
          "data": {
            "text/plain": [
              "(8546, 13)"
            ]
          },
          "metadata": {
            "tags": []
          },
          "execution_count": 18
        }
      ]
    },
    {
      "cell_type": "markdown",
      "metadata": {
        "id": "X3A9J_5j7E3E",
        "colab_type": "text"
      },
      "source": [
        "By this we can see lot of outlying rows have been removed"
      ]
    },
    {
      "cell_type": "markdown",
      "metadata": {
        "id": "QCd95OaF8bOQ",
        "colab_type": "text"
      },
      "source": [
        "## **6. Most represented car brands in the dataset and average price among the top car brands**\n",
        "\n",
        "**6.1** **Let's list out top 10 most represented car brands in the dataset**"
      ]
    },
    {
      "cell_type": "code",
      "metadata": {
        "id": "71bmO21N8p7N",
        "colab_type": "code",
        "colab": {
          "base_uri": "https://localhost:8080/",
          "height": 204
        },
        "outputId": "cf1f6314-f45d-4dff-eb9a-ace46ebd9bf0"
      },
      "source": [
        "car_feature_data['Make'].value_counts()[:10]"
      ],
      "execution_count": 19,
      "outputs": [
        {
          "output_type": "execute_result",
          "data": {
            "text/plain": [
              "Chevrolet     1027\n",
              "Toyota         569\n",
              "Volkswagen     515\n",
              "Nissan         513\n",
              "GMC            469\n",
              "Dodge          425\n",
              "Mazda          378\n",
              "Honda          373\n",
              "Suzuki         339\n",
              "Infiniti       322\n",
              "Name: Make, dtype: int64"
            ]
          },
          "metadata": {
            "tags": []
          },
          "execution_count": 19
        }
      ]
    },
    {
      "cell_type": "markdown",
      "metadata": {
        "id": "TU5EU5qs9stJ",
        "colab_type": "text"
      },
      "source": [
        "**6.2** **The average pricing among the top 10 represented brand**"
      ]
    },
    {
      "cell_type": "code",
      "metadata": {
        "id": "kL_6R_2v-A7P",
        "colab_type": "code",
        "colab": {
          "base_uri": "https://localhost:8080/",
          "height": 390
        },
        "outputId": "9879d2ff-a520-4ec8-960c-7a071f85457a"
      },
      "source": [
        "prices = car_feature_data[['Make','Price']].loc[(car_feature_data['Make'] == 'Chevrolet')|\n",
        "               (car_feature_data['Make'] == 'Chevrolet')|\n",
        "               (car_feature_data['Make'] == 'Toyota')|\n",
        "               (car_feature_data['Make'] == 'Volkswagen')|\n",
        "               (car_feature_data['Make'] == 'Nissan')|\n",
        "               (car_feature_data['Make'] == 'GMC')|\n",
        "               (car_feature_data['Make'] == 'Dodge')|\n",
        "               (car_feature_data['Make'] == 'Mazda')|\n",
        "               (car_feature_data['Make'] == 'Honda')|\n",
        "               (car_feature_data['Make'] == 'Suzuki')|\n",
        "               (car_feature_data['Make'] == 'Infiniti')].groupby('Make').mean()\n",
        "prices"
      ],
      "execution_count": 20,
      "outputs": [
        {
          "output_type": "execute_result",
          "data": {
            "text/html": [
              "<div>\n",
              "<style scoped>\n",
              "    .dataframe tbody tr th:only-of-type {\n",
              "        vertical-align: middle;\n",
              "    }\n",
              "\n",
              "    .dataframe tbody tr th {\n",
              "        vertical-align: top;\n",
              "    }\n",
              "\n",
              "    .dataframe thead th {\n",
              "        text-align: right;\n",
              "    }\n",
              "</style>\n",
              "<table border=\"1\" class=\"dataframe\">\n",
              "  <thead>\n",
              "    <tr style=\"text-align: right;\">\n",
              "      <th></th>\n",
              "      <th>Price</th>\n",
              "    </tr>\n",
              "    <tr>\n",
              "      <th>Make</th>\n",
              "      <th></th>\n",
              "    </tr>\n",
              "  </thead>\n",
              "  <tbody>\n",
              "    <tr>\n",
              "      <th>Chevrolet</th>\n",
              "      <td>28142.855891</td>\n",
              "    </tr>\n",
              "    <tr>\n",
              "      <th>Dodge</th>\n",
              "      <td>26076.722353</td>\n",
              "    </tr>\n",
              "    <tr>\n",
              "      <th>GMC</th>\n",
              "      <td>33261.400853</td>\n",
              "    </tr>\n",
              "    <tr>\n",
              "      <th>Honda</th>\n",
              "      <td>27381.364611</td>\n",
              "    </tr>\n",
              "    <tr>\n",
              "      <th>Infiniti</th>\n",
              "      <td>43127.822981</td>\n",
              "    </tr>\n",
              "    <tr>\n",
              "      <th>Mazda</th>\n",
              "      <td>20495.820106</td>\n",
              "    </tr>\n",
              "    <tr>\n",
              "      <th>Nissan</th>\n",
              "      <td>28352.543860</td>\n",
              "    </tr>\n",
              "    <tr>\n",
              "      <th>Suzuki</th>\n",
              "      <td>18168.241888</td>\n",
              "    </tr>\n",
              "    <tr>\n",
              "      <th>Toyota</th>\n",
              "      <td>27769.421793</td>\n",
              "    </tr>\n",
              "    <tr>\n",
              "      <th>Volkswagen</th>\n",
              "      <td>29032.817476</td>\n",
              "    </tr>\n",
              "  </tbody>\n",
              "</table>\n",
              "</div>"
            ],
            "text/plain": [
              "                   Price\n",
              "Make                    \n",
              "Chevrolet   28142.855891\n",
              "Dodge       26076.722353\n",
              "GMC         33261.400853\n",
              "Honda       27381.364611\n",
              "Infiniti    43127.822981\n",
              "Mazda       20495.820106\n",
              "Nissan      28352.543860\n",
              "Suzuki      18168.241888\n",
              "Toyota      27769.421793\n",
              "Volkswagen  29032.817476"
            ]
          },
          "metadata": {
            "tags": []
          },
          "execution_count": 20
        }
      ]
    },
    {
      "cell_type": "markdown",
      "metadata": {
        "id": "4jD19Dry-UQ6",
        "colab_type": "text"
      },
      "source": [
        "This gives the average pricing among the top represented car brands. "
      ]
    },
    {
      "cell_type": "markdown",
      "metadata": {
        "id": "k-KiQQqa3dmz",
        "colab_type": "text"
      },
      "source": [
        "## **7. Correlation matrix**\n",
        "\n",
        "Correlation or dependence is any statistical relationship, whether causal or not, between two random variables or bivariate data. In the broadest sense correlation is any statistical association, though it commonly refers to the degree to which a pair of variables are linearly related.A correlation matrix is a table showing correlation coefficients between variables. Each cell in the table shows the correlation between two variables. \n",
        "A correlation matrix is used to summarize data, as an input into a more advanced analysis, and as a diagnostic for advanced analyses."
      ]
    },
    {
      "cell_type": "code",
      "metadata": {
        "id": "BatPg5oV4LN-",
        "colab_type": "code",
        "colab": {
          "base_uri": "https://localhost:8080/",
          "height": 266
        },
        "outputId": "996530bc-2e58-474a-832f-52ebfd81c34f"
      },
      "source": [
        "car_feature_data.corr()"
      ],
      "execution_count": 21,
      "outputs": [
        {
          "output_type": "execute_result",
          "data": {
            "text/html": [
              "<div>\n",
              "<style scoped>\n",
              "    .dataframe tbody tr th:only-of-type {\n",
              "        vertical-align: middle;\n",
              "    }\n",
              "\n",
              "    .dataframe tbody tr th {\n",
              "        vertical-align: top;\n",
              "    }\n",
              "\n",
              "    .dataframe thead th {\n",
              "        text-align: right;\n",
              "    }\n",
              "</style>\n",
              "<table border=\"1\" class=\"dataframe\">\n",
              "  <thead>\n",
              "    <tr style=\"text-align: right;\">\n",
              "      <th></th>\n",
              "      <th>Year</th>\n",
              "      <th>HP</th>\n",
              "      <th>Cylinders</th>\n",
              "      <th>MPG-H</th>\n",
              "      <th>MPG-C</th>\n",
              "      <th>Popularity</th>\n",
              "      <th>Price</th>\n",
              "    </tr>\n",
              "  </thead>\n",
              "  <tbody>\n",
              "    <tr>\n",
              "      <th>Year</th>\n",
              "      <td>1.000000</td>\n",
              "      <td>0.325104</td>\n",
              "      <td>-0.106597</td>\n",
              "      <td>0.373319</td>\n",
              "      <td>0.335236</td>\n",
              "      <td>0.200710</td>\n",
              "      <td>0.591439</td>\n",
              "    </tr>\n",
              "    <tr>\n",
              "      <th>HP</th>\n",
              "      <td>0.325104</td>\n",
              "      <td>1.000000</td>\n",
              "      <td>0.734094</td>\n",
              "      <td>-0.453451</td>\n",
              "      <td>-0.554768</td>\n",
              "      <td>0.095161</td>\n",
              "      <td>0.745852</td>\n",
              "    </tr>\n",
              "    <tr>\n",
              "      <th>Cylinders</th>\n",
              "      <td>-0.106597</td>\n",
              "      <td>0.734094</td>\n",
              "      <td>1.000000</td>\n",
              "      <td>-0.691395</td>\n",
              "      <td>-0.746361</td>\n",
              "      <td>0.013373</td>\n",
              "      <td>0.389049</td>\n",
              "    </tr>\n",
              "    <tr>\n",
              "      <th>MPG-H</th>\n",
              "      <td>0.373319</td>\n",
              "      <td>-0.453451</td>\n",
              "      <td>-0.691395</td>\n",
              "      <td>1.000000</td>\n",
              "      <td>0.936978</td>\n",
              "      <td>0.093002</td>\n",
              "      <td>-0.121262</td>\n",
              "    </tr>\n",
              "    <tr>\n",
              "      <th>MPG-C</th>\n",
              "      <td>0.335236</td>\n",
              "      <td>-0.554768</td>\n",
              "      <td>-0.746361</td>\n",
              "      <td>0.936978</td>\n",
              "      <td>1.000000</td>\n",
              "      <td>0.081110</td>\n",
              "      <td>-0.197330</td>\n",
              "    </tr>\n",
              "    <tr>\n",
              "      <th>Popularity</th>\n",
              "      <td>0.200710</td>\n",
              "      <td>0.095161</td>\n",
              "      <td>0.013373</td>\n",
              "      <td>0.093002</td>\n",
              "      <td>0.081110</td>\n",
              "      <td>1.000000</td>\n",
              "      <td>0.113604</td>\n",
              "    </tr>\n",
              "    <tr>\n",
              "      <th>Price</th>\n",
              "      <td>0.591439</td>\n",
              "      <td>0.745852</td>\n",
              "      <td>0.389049</td>\n",
              "      <td>-0.121262</td>\n",
              "      <td>-0.197330</td>\n",
              "      <td>0.113604</td>\n",
              "      <td>1.000000</td>\n",
              "    </tr>\n",
              "  </tbody>\n",
              "</table>\n",
              "</div>"
            ],
            "text/plain": [
              "                Year        HP  Cylinders  ...     MPG-C  Popularity     Price\n",
              "Year        1.000000  0.325104  -0.106597  ...  0.335236    0.200710  0.591439\n",
              "HP          0.325104  1.000000   0.734094  ... -0.554768    0.095161  0.745852\n",
              "Cylinders  -0.106597  0.734094   1.000000  ... -0.746361    0.013373  0.389049\n",
              "MPG-H       0.373319 -0.453451  -0.691395  ...  0.936978    0.093002 -0.121262\n",
              "MPG-C       0.335236 -0.554768  -0.746361  ...  1.000000    0.081110 -0.197330\n",
              "Popularity  0.200710  0.095161   0.013373  ...  0.081110    1.000000  0.113604\n",
              "Price       0.591439  0.745852   0.389049  ... -0.197330    0.113604  1.000000\n",
              "\n",
              "[7 rows x 7 columns]"
            ]
          },
          "metadata": {
            "tags": []
          },
          "execution_count": 21
        }
      ]
    },
    {
      "cell_type": "markdown",
      "metadata": {
        "id": "fcuOK9yy4Rxs",
        "colab_type": "text"
      },
      "source": [
        "We can use heatmap for deeper analysis because, seaborn heatmaps are appealing to the eyes, and they tend to send clear messages about data almost immediately. This is why this method for correlation matrix visualization is widely used by data analysts and data scientists alike"
      ]
    },
    {
      "cell_type": "code",
      "metadata": {
        "id": "2Fa-mCJu4tqU",
        "colab_type": "code",
        "colab": {
          "base_uri": "https://localhost:8080/",
          "height": 504
        },
        "outputId": "551d387b-1d53-4c3a-bd3f-69fc90c54903"
      },
      "source": [
        "plt.figure(figsize=(10,8))\n",
        "sns.heatmap(car_feature_data.corr(), annot = True, cmap= 'coolwarm')"
      ],
      "execution_count": 22,
      "outputs": [
        {
          "output_type": "execute_result",
          "data": {
            "text/plain": [
              "<matplotlib.axes._subplots.AxesSubplot at 0x7f86e25c7898>"
            ]
          },
          "metadata": {
            "tags": []
          },
          "execution_count": 22
        },
        {
          "output_type": "display_data",
          "data": {
            "image/png": "[encoded data removed]",
            "text/plain": [
              "<Figure size 720x576 with 2 Axes>"
            ]
          },
          "metadata": {
            "tags": [],
            "needs_background": "light"
          }
        }
      ]
    },
    {
      "cell_type": "markdown",
      "metadata": {
        "id": "jDu956Y36lNa",
        "colab_type": "text"
      },
      "source": [
        "**High correlation between**\n",
        "\n",
        "--MPG-H and MPG-C (0.94)\n",
        "\n",
        "So we can say that MPG-H and MPG-C are highly correlated. As the MPG-H increases the MPG-C also increases with the same trend\n",
        "\n",
        "**High anticorrelation between**\n",
        "\n",
        "-- Cylinders and MPG-C (-0.75)\n",
        "\n",
        "So we can say that Cylinders and MPG-C are highly anticorrelated. As the MPG-H increases the MPG-C decreases with the same trend\n",
        "\n",
        "These anticorrelation and correlation are reasonable so there is noo need of feature removal\n"
      ]
    },
    {
      "cell_type": "markdown",
      "metadata": {
        "id": "hAOh-1ucIQdE",
        "colab_type": "text"
      },
      "source": [
        "## **8. Perform EDA and plot different graphs and document**\n",
        "\n",
        "EDA is an approach to analyzing datasets to summarize their main characteristics, often with visual methods. In my own words, it is about knowing your data, gaining a certain amount of familiarity with the data, before one starts to extract insights from it.Since EDA is such a crucial initial step for all data science projects.\n",
        "\n",
        "EDA is an approach/philosophy for data analysis that employs a variety of techniques (mostly graphical) like:\n",
        "\n",
        "![image.png](data:image/png;base64,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)\n",
        "\n",
        "Now lets perform some data preprocessing \n"
      ]
    },
    {
      "cell_type": "markdown",
      "metadata": {
        "id": "Y7XbJDjCLk2X",
        "colab_type": "text"
      },
      "source": [
        "**8.1** **Encode the dataset**\n",
        "\n",
        "In the dataset we can see that there are lot of non-numeric columns. We should get rid of such data because many of the algorithms do not support categorical data, python tools of pandas and scikit-learn provide several approaches that can be applied to transform the categorical data into suitable numeric values. In this notebook we are using Label Encoder to convert into suitable numeric values. "
      ]
    },
    {
      "cell_type": "code",
      "metadata": {
        "id": "X5EcrVcsMb_B",
        "colab_type": "code",
        "colab": {
          "base_uri": "https://localhost:8080/",
          "height": 204
        },
        "outputId": "cc18ca91-635e-41de-9fef-642a4c84afb7"
      },
      "source": [
        "car_feature_data_old = car_feature_data.copy()\n",
        "label_encoder = LabelEncoder()\n",
        "for column in car_feature_data:\n",
        "    if car_feature_data[column].dtype == 'object':\n",
        "        car_feature_data[column] = label_encoder.fit_transform(car_feature_data[column])\n",
        "car_feature_data.head()"
      ],
      "execution_count": 23,
      "outputs": [
        {
          "output_type": "execute_result",
          "data": {
            "text/html": [
              "<div>\n",
              "<style scoped>\n",
              "    .dataframe tbody tr th:only-of-type {\n",
              "        vertical-align: middle;\n",
              "    }\n",
              "\n",
              "    .dataframe tbody tr th {\n",
              "        vertical-align: top;\n",
              "    }\n",
              "\n",
              "    .dataframe thead th {\n",
              "        text-align: right;\n",
              "    }\n",
              "</style>\n",
              "<table border=\"1\" class=\"dataframe\">\n",
              "  <thead>\n",
              "    <tr style=\"text-align: right;\">\n",
              "      <th></th>\n",
              "      <th>Make</th>\n",
              "      <th>Model</th>\n",
              "      <th>Year</th>\n",
              "      <th>HP</th>\n",
              "      <th>Cylinders</th>\n",
              "      <th>Transmission</th>\n",
              "      <th>Drive Mode</th>\n",
              "      <th>Vehicle Size</th>\n",
              "      <th>Vehicle Style</th>\n",
              "      <th>MPG-H</th>\n",
              "      <th>MPG-C</th>\n",
              "      <th>Popularity</th>\n",
              "      <th>Price</th>\n",
              "    </tr>\n",
              "  </thead>\n",
              "  <tbody>\n",
              "    <tr>\n",
              "      <th>0</th>\n",
              "      <td>3</td>\n",
              "      <td>1</td>\n",
              "      <td>2011</td>\n",
              "      <td>335.0</td>\n",
              "      <td>6.0</td>\n",
              "      <td>2</td>\n",
              "      <td>3</td>\n",
              "      <td>0</td>\n",
              "      <td>8</td>\n",
              "      <td>26</td>\n",
              "      <td>19</td>\n",
              "      <td>3916</td>\n",
              "      <td>46135</td>\n",
              "    </tr>\n",
              "    <tr>\n",
              "      <th>1</th>\n",
              "      <td>3</td>\n",
              "      <td>0</td>\n",
              "      <td>2011</td>\n",
              "      <td>300.0</td>\n",
              "      <td>6.0</td>\n",
              "      <td>2</td>\n",
              "      <td>3</td>\n",
              "      <td>0</td>\n",
              "      <td>6</td>\n",
              "      <td>28</td>\n",
              "      <td>19</td>\n",
              "      <td>3916</td>\n",
              "      <td>40650</td>\n",
              "    </tr>\n",
              "    <tr>\n",
              "      <th>2</th>\n",
              "      <td>3</td>\n",
              "      <td>0</td>\n",
              "      <td>2011</td>\n",
              "      <td>300.0</td>\n",
              "      <td>6.0</td>\n",
              "      <td>2</td>\n",
              "      <td>3</td>\n",
              "      <td>0</td>\n",
              "      <td>8</td>\n",
              "      <td>28</td>\n",
              "      <td>20</td>\n",
              "      <td>3916</td>\n",
              "      <td>36350</td>\n",
              "    </tr>\n",
              "    <tr>\n",
              "      <th>3</th>\n",
              "      <td>3</td>\n",
              "      <td>0</td>\n",
              "      <td>2011</td>\n",
              "      <td>230.0</td>\n",
              "      <td>6.0</td>\n",
              "      <td>2</td>\n",
              "      <td>3</td>\n",
              "      <td>0</td>\n",
              "      <td>8</td>\n",
              "      <td>28</td>\n",
              "      <td>18</td>\n",
              "      <td>3916</td>\n",
              "      <td>29450</td>\n",
              "    </tr>\n",
              "    <tr>\n",
              "      <th>4</th>\n",
              "      <td>3</td>\n",
              "      <td>0</td>\n",
              "      <td>2011</td>\n",
              "      <td>230.0</td>\n",
              "      <td>6.0</td>\n",
              "      <td>2</td>\n",
              "      <td>3</td>\n",
              "      <td>0</td>\n",
              "      <td>6</td>\n",
              "      <td>28</td>\n",
              "      <td>18</td>\n",
              "      <td>3916</td>\n",
              "      <td>34500</td>\n",
              "    </tr>\n",
              "  </tbody>\n",
              "</table>\n",
              "</div>"
            ],
            "text/plain": [
              "   Make  Model  Year     HP  ...  MPG-H  MPG-C  Popularity  Price\n",
              "0     3      1  2011  335.0  ...     26     19        3916  46135\n",
              "1     3      0  2011  300.0  ...     28     19        3916  40650\n",
              "2     3      0  2011  300.0  ...     28     20        3916  36350\n",
              "3     3      0  2011  230.0  ...     28     18        3916  29450\n",
              "4     3      0  2011  230.0  ...     28     18        3916  34500\n",
              "\n",
              "[5 rows x 13 columns]"
            ]
          },
          "metadata": {
            "tags": []
          },
          "execution_count": 23
        }
      ]
    },
    {
      "cell_type": "markdown",
      "metadata": {
        "id": "P0DRTlsDNoKG",
        "colab_type": "text"
      },
      "source": [
        "From the above output we can see that all the catogorical values have been converted to numeric values"
      ]
    },
    {
      "cell_type": "markdown",
      "metadata": {
        "id": "NtgjtoV-N2YW",
        "colab_type": "text"
      },
      "source": [
        "**8.2** **Feature Scaling**\n",
        "\n",
        "Feature Scaling is a technique to standardize the independent features present in the data in a fixed range. It is performed during the data pre-processing to handle highly varying magnitudes or values or units. If feature scaling is not done, then a machine learning algorithm tends to weigh greater values, higher and consider smaller values as the lower values, regardless of the unit of the values.\n",
        "\n",
        "2 most important scalling techniques are *Min-Max Normalization* and *Standardization*\n",
        "\n",
        "In this we are using Standardization. We'll use StandardScaler from sklearn. It is a very effective technique which re-scales a feature value so that it has distribution with 0 mean value and variance equals to 1"
      ]
    },
    {
      "cell_type": "code",
      "metadata": {
        "id": "Ub2Ot4LMQja3",
        "colab_type": "code",
        "colab": {
          "base_uri": "https://localhost:8080/",
          "height": 272
        },
        "outputId": "2f9964fa-7a30-4a35-9d1a-6591aa522080"
      },
      "source": [
        "standard_scaler = StandardScaler()\n",
        "car_feature_data_scalled =  standard_scaler.fit_transform(car_feature_data)\n",
        "car_feature_data_scalled[:5,:]"
      ],
      "execution_count": 24,
      "outputs": [
        {
          "output_type": "execute_result",
          "data": {
            "text/plain": [
              "array([[-1.28350756, -1.64434287, -0.04159785,  1.30513235,  0.45501994,\n",
              "         1.70365672,  1.21513824, -1.12126966, -0.05984543, -0.13111318,\n",
              "        -0.1091675 ,  3.13678811,  1.00619211],\n",
              "       [-1.28350756, -1.64945719, -0.04159785,  0.85040587,  0.45501994,\n",
              "         1.70365672,  1.21513824, -1.12126966, -0.46430497,  0.22313697,\n",
              "        -0.1091675 ,  3.13678811,  0.64395311],\n",
              "       [-1.28350756, -1.64945719, -0.04159785,  0.85040587,  0.45501994,\n",
              "         1.70365672,  1.21513824, -1.12126966, -0.05984543,  0.22313697,\n",
              "         0.12164533,  3.13678811,  0.35997359],\n",
              "       [-1.28350756, -1.64945719, -0.04159785, -0.05904709,  0.45501994,\n",
              "         1.70365672,  1.21513824, -1.12126966, -0.05984543,  0.22313697,\n",
              "        -0.33998034,  3.13678811, -0.09571448],\n",
              "       [-1.28350756, -1.64945719, -0.04159785, -0.05904709,  0.45501994,\n",
              "         1.70365672,  1.21513824, -1.12126966, -0.46430497,  0.22313697,\n",
              "        -0.33998034,  3.13678811,  0.23779635]])"
            ]
          },
          "metadata": {
            "tags": []
          },
          "execution_count": 24
        }
      ]
    },
    {
      "cell_type": "markdown",
      "metadata": {
        "id": "lrJEcjZ6RoTb",
        "colab_type": "text"
      },
      "source": [
        "The above output shows the top 5 rows of the dataset, here we can see that all the data points are in a fixed range"
      ]
    },
    {
      "cell_type": "markdown",
      "metadata": {
        "id": "WMaR9ZN5S0_3",
        "colab_type": "text"
      },
      "source": [
        "**8.3** **Plot different graphs and document**\n",
        "\n",
        "There are a number of tools that are useful for EDA, but EDA is characterized more by the attitude taken than by particular techniques.\n",
        "\n",
        "Typical graphical techniques used in EDA are:\n",
        "\n",
        "![image.png](data:image/png;base64,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)\n",
        "\n"
      ]
    },
    {
      "cell_type": "markdown",
      "metadata": {
        "id": "c68BilzlV0v-",
        "colab_type": "text"
      },
      "source": [
        "Now lets plot graphs on different to see how other\n",
        "variables affect the price of the car"
      ]
    },
    {
      "cell_type": "markdown",
      "metadata": {
        "id": "xTLxMCRTzyTo",
        "colab_type": "text"
      },
      "source": [
        "**8.3.1** **Year-price graph**"
      ]
    },
    {
      "cell_type": "code",
      "metadata": {
        "id": "DDpzjx1m0FF_",
        "colab_type": "code",
        "colab": {
          "base_uri": "https://localhost:8080/",
          "height": 296
        },
        "outputId": "a6eaaa36-d7b5-4c96-e5fd-9478783b69ec"
      },
      "source": [
        "plt.bar(car_feature_data['Year'],car_feature_data['Price'])\n",
        "plt.xlabel('Year')\n",
        "plt.ylabel('Price')"
      ],
      "execution_count": 25,
      "outputs": [
        {
          "output_type": "execute_result",
          "data": {
            "text/plain": [
              "Text(0, 0.5, 'Price')"
            ]
          },
          "metadata": {
            "tags": []
          },
          "execution_count": 25
        },
        {
          "output_type": "display_data",
          "data": {
            "image/png": "[encoded data removed]",
            "text/plain": [
              "<Figure size 432x288 with 1 Axes>"
            ]
          },
          "metadata": {
            "tags": [],
            "needs_background": "light"
          }
        }
      ]
    },
    {
      "cell_type": "markdown",
      "metadata": {
        "id": "dwXSlc1x1Iq5",
        "colab_type": "text"
      },
      "source": [
        "From the above graph we can analyse that car prices before 2005 was reasonably low, this is be because of technology available at that period, employement,developement, etc\n",
        "\n",
        "So from this we can say that year plays an important role price values"
      ]
    },
    {
      "cell_type": "markdown",
      "metadata": {
        "id": "f5IqlU2Q2LZS",
        "colab_type": "text"
      },
      "source": [
        "**8.3.2** **HP - Price graph**"
      ]
    },
    {
      "cell_type": "code",
      "metadata": {
        "id": "dnNptqHV3m69",
        "colab_type": "code",
        "colab": {
          "base_uri": "https://localhost:8080/",
          "height": 296
        },
        "outputId": "60e5f784-c753-44bb-816e-295547c69bfd"
      },
      "source": [
        "plt.scatter(car_feature_data['HP'],car_feature_data['Price'],marker='.')\n",
        "plt.xlabel('HP')\n",
        "plt.ylabel('Price')"
      ],
      "execution_count": 26,
      "outputs": [
        {
          "output_type": "execute_result",
          "data": {
            "text/plain": [
              "Text(0, 0.5, 'Price')"
            ]
          },
          "metadata": {
            "tags": []
          },
          "execution_count": 26
        },
        {
          "output_type": "display_data",
          "data": {
            "image/png": "[encoded data removed]",
            "text/plain": [
              "<Figure size 432x288 with 1 Axes>"
            ]
          },
          "metadata": {
            "tags": [],
            "needs_background": "light"
          }
        }
      ]
    },
    {
      "cell_type": "markdown",
      "metadata": {
        "id": "NbhmOL0U3sOV",
        "colab_type": "text"
      },
      "source": [
        "From the above graph we can see that as the HP is increased the price of the car is also increaseed. This is because to produce cars with greater horse power more powerfull engine is required which would be of higher price.We can easily draw a trend line for this.\n",
        "\n",
        "So from this we can observe that HP is plays an important role price values"
      ]
    },
    {
      "cell_type": "markdown",
      "metadata": {
        "id": "Axdvf3Nz4ZDF",
        "colab_type": "text"
      },
      "source": [
        "**8.3.3** **HP - Cylinders Bar graph**"
      ]
    },
    {
      "cell_type": "code",
      "metadata": {
        "id": "Z_3KjYob4nBV",
        "colab_type": "code",
        "colab": {
          "base_uri": "https://localhost:8080/",
          "height": 296
        },
        "outputId": "3b736422-425c-4515-a955-f88086680671"
      },
      "source": [
        "plt.bar(car_feature_data['Cylinders'],car_feature_data['HP'])\n",
        "plt.xlabel('Cylinders')\n",
        "plt.ylabel('HP')"
      ],
      "execution_count": 27,
      "outputs": [
        {
          "output_type": "execute_result",
          "data": {
            "text/plain": [
              "Text(0, 0.5, 'HP')"
            ]
          },
          "metadata": {
            "tags": []
          },
          "execution_count": 27
        },
        {
          "output_type": "display_data",
          "data": {
            "image/png": "[encoded data removed]",
            "text/plain": [
              "<Figure size 432x288 with 1 Axes>"
            ]
          },
          "metadata": {
            "tags": [],
            "needs_background": "light"
          }
        }
      ]
    },
    {
      "cell_type": "markdown",
      "metadata": {
        "id": "zuNbTd0L5iKV",
        "colab_type": "text"
      },
      "source": [
        "Here we can see that when No of cylinders is increased the HP is also increased"
      ]
    },
    {
      "cell_type": "markdown",
      "metadata": {
        "id": "w35JhZ7p5q-v",
        "colab_type": "text"
      },
      "source": [
        "**8.3.4** **Make - AVG Price graph**"
      ]
    },
    {
      "cell_type": "code",
      "metadata": {
        "id": "kYzTgAEl5zuH",
        "colab_type": "code",
        "colab": {
          "base_uri": "https://localhost:8080/",
          "height": 514
        },
        "outputId": "2fbbe588-ff45-4cc2-8b03-fd415c37b343"
      },
      "source": [
        "plt.figure(figsize=(10,8))\n",
        "plt.plot(prices)\n",
        "plt.xlabel('Make')\n",
        "plt.ylabel('AVG-Price')\n"
      ],
      "execution_count": 28,
      "outputs": [
        {
          "output_type": "execute_result",
          "data": {
            "text/plain": [
              "Text(0, 0.5, 'AVG-Price')"
            ]
          },
          "metadata": {
            "tags": []
          },
          "execution_count": 28
        },
        {
          "output_type": "display_data",
          "data": {
            "image/png": "[encoded data removed]",
            "text/plain": [
              "<Figure size 720x576 with 1 Axes>"
            ]
          },
          "metadata": {
            "tags": [],
            "needs_background": "light"
          }
        }
      ]
    },
    {
      "cell_type": "markdown",
      "metadata": {
        "id": "jtx5dyNR9srA",
        "colab_type": "text"
      },
      "source": [
        "Here we can see that there are many ups and down in the graph, it says that different car company have different pricing range, the price range of different car brands depends upon their standards and built qualty, etc.\n",
        "\n",
        "By this we get to know that Make also plays reasonable part in price prediction"
      ]
    },
    {
      "cell_type": "markdown",
      "metadata": {
        "id": "8eRIISx__Mp9",
        "colab_type": "text"
      },
      "source": [
        "**8.3.5 MPG-H and MPG-C graph**"
      ]
    },
    {
      "cell_type": "code",
      "metadata": {
        "id": "rCK26pofVRXb",
        "colab_type": "code",
        "colab": {
          "base_uri": "https://localhost:8080/",
          "height": 296
        },
        "outputId": "274fb342-3e11-4582-a4b7-e7394079819e"
      },
      "source": [
        "plt.scatter(car_feature_data['MPG-H'],car_feature_data['MPG-C'],marker='*')\n",
        "plt.xlabel('MPG-H')\n",
        "plt.ylabel('MPG-C')"
      ],
      "execution_count": 29,
      "outputs": [
        {
          "output_type": "execute_result",
          "data": {
            "text/plain": [
              "Text(0, 0.5, 'MPG-C')"
            ]
          },
          "metadata": {
            "tags": []
          },
          "execution_count": 29
        },
        {
          "output_type": "display_data",
          "data": {
            "image/png": "[encoded data removed]",
            "text/plain": [
              "<Figure size 432x288 with 1 Axes>"
            ]
          },
          "metadata": {
            "tags": [],
            "needs_background": "light"
          }
        }
      ]
    },
    {
      "cell_type": "markdown",
      "metadata": {
        "id": "pT4MlgFWaj1H",
        "colab_type": "text"
      },
      "source": [
        "Here we can see perfect relation ship between MPG-H and MPG-C, this gives a perfect trend for model fitting"
      ]
    },
    {
      "cell_type": "markdown",
      "metadata": {
        "id": "WNWqRI-tboCk",
        "colab_type": "text"
      },
      "source": [
        "**8.3.6 Car proportion**"
      ]
    },
    {
      "cell_type": "code",
      "metadata": {
        "id": "XT0caFENb1-K",
        "colab_type": "code",
        "colab": {
          "base_uri": "https://localhost:8080/",
          "height": 433
        },
        "outputId": "5526e6ca-cbb8-4974-87b1-d1bc896e8cfe"
      },
      "source": [
        "counts = car_feature_data_old['Make'].value_counts()*100/sum(car_feature_data_old['Make'].value_counts())\n",
        "plt.figure(figsize=(50,15))\n",
        "plt.bar(counts.index, height=counts)\n",
        "plt.xlabel('Car brand')\n",
        "plt.ylabel('Proportion')"
      ],
      "execution_count": 30,
      "outputs": [
        {
          "output_type": "execute_result",
          "data": {
            "text/plain": [
              "Text(0, 0.5, 'Proportion')"
            ]
          },
          "metadata": {
            "tags": []
          },
          "execution_count": 30
        },
        {
          "output_type": "display_data",
          "data": {
            "image/png": "[encoded data removed]",
            "text/plain": [
              "<Figure size 3600x1080 with 1 Axes>"
            ]
          },
          "metadata": {
            "tags": [],
            "needs_background": "light"
          }
        }
      ]
    },
    {
      "cell_type": "markdown",
      "metadata": {
        "id": "2jCnbj7edvCk",
        "colab_type": "text"
      },
      "source": [
        "From this we can see that top most represented brands takes more than half of the proportion\n",
        "\n",
        "Graph for top 10 car proportion"
      ]
    },
    {
      "cell_type": "code",
      "metadata": {
        "id": "xEZInaU9eSSb",
        "colab_type": "code",
        "colab": {
          "base_uri": "https://localhost:8080/",
          "height": 351
        },
        "outputId": "08ed390b-e612-435f-b44a-b414e284a3c8"
      },
      "source": [
        "plt.figure(figsize=(10,5))\n",
        "plt.bar(counts.index[:10], height=counts[:10])\n",
        "plt.xlabel('Car brand')\n",
        "plt.ylabel('Proportion')"
      ],
      "execution_count": 31,
      "outputs": [
        {
          "output_type": "execute_result",
          "data": {
            "text/plain": [
              "Text(0, 0.5, 'Proportion')"
            ]
          },
          "metadata": {
            "tags": []
          },
          "execution_count": 31
        },
        {
          "output_type": "display_data",
          "data": {
            "image/png": "[encoded data removed]",
            "text/plain": [
              "<Figure size 720x360 with 1 Axes>"
            ]
          },
          "metadata": {
            "tags": [],
            "needs_background": "light"
          }
        }
      ]
    },
    {
      "cell_type": "markdown",
      "metadata": {
        "id": "cbTa9gOL3XYd",
        "colab_type": "text"
      },
      "source": [
        "**8.3.6 Engine cylinders histogram**"
      ]
    },
    {
      "cell_type": "code",
      "metadata": {
        "id": "JAkHgmbN3a_U",
        "colab_type": "code",
        "colab": {
          "base_uri": "https://localhost:8080/",
          "height": 351
        },
        "outputId": "a284e7f2-a764-4b7c-e051-d135cf53580c"
      },
      "source": [
        "plt.figure(figsize=(10,5))\n",
        "plt.hist(car_feature_data['Cylinders'].values, bins = 20)\n",
        "plt.xlabel('Nb of cylinders')\n",
        "plt.ylabel('Nb of cars')"
      ],
      "execution_count": 32,
      "outputs": [
        {
          "output_type": "execute_result",
          "data": {
            "text/plain": [
              "Text(0, 0.5, 'Nb of cars')"
            ]
          },
          "metadata": {
            "tags": []
          },
          "execution_count": 32
        },
        {
          "output_type": "display_data",
          "data": {
            "image/png": "[encoded data removed]",
            "text/plain": [
              "<Figure size 720x360 with 1 Axes>"
            ]
          },
          "metadata": {
            "tags": [],
            "needs_background": "light"
          }
        }
      ]
    },
    {
      "cell_type": "markdown",
      "metadata": {
        "id": "Qfhv6ean4sg5",
        "colab_type": "text"
      },
      "source": [
        "This graph shows that most of the cars are produced with 4 and 6 cylinders"
      ]
    },
    {
      "cell_type": "markdown",
      "metadata": {
        "id": "zFquOiji5kAr",
        "colab_type": "text"
      },
      "source": [
        "**8.3.7 Vehicle style bargraph**"
      ]
    },
    {
      "cell_type": "code",
      "metadata": {
        "id": "kWFeph2_5_xP",
        "colab_type": "code",
        "colab": {
          "base_uri": "https://localhost:8080/",
          "height": 304
        },
        "outputId": "b88154f9-b5fa-4062-d450-ee5b0a902d7f"
      },
      "source": [
        "counts = car_feature_data_old['Vehicle Style'].value_counts()\n",
        "plt.figure(figsize=(25,5))\n",
        "plt.bar(counts.index, height=counts)\n",
        "plt.xlabel('Car brand')\n",
        "plt.ylabel('Vehicle Style')\n",
        "del car_feature_data_old\n"
      ],
      "execution_count": 33,
      "outputs": [
        {
          "output_type": "display_data",
          "data": {
            "image/png": "[encoded data removed]",
            "text/plain": [
              "<Figure size 1800x360 with 1 Axes>"
            ]
          },
          "metadata": {
            "tags": [],
            "needs_background": "light"
          }
        }
      ]
    },
    {
      "cell_type": "markdown",
      "metadata": {
        "id": "Gav3U1QO66w4",
        "colab_type": "text"
      },
      "source": [
        "From this graph we can analyse that Sedan and 4dr SUV are most produced Vehicle Style"
      ]
    },
    {
      "cell_type": "markdown",
      "metadata": {
        "id": "4BrrTPuk9-Hx",
        "colab_type": "text"
      },
      "source": [
        "## **9. Split and build Machine learning model**\n",
        "\n",
        "**9.1 Split the dataset to train and test**\n",
        "\n",
        "The data we use is usually split into training data and test data. The training set contains a known output and the model learns on this data. The test dataset (or subset) in order to test our model’s prediction on this subset. We’ll do this using the Scikit-Learn library and specifically the train_test_split method. We'll split the dataset to 80 and 20 ratio. \n",
        "\n",
        "Before that we'll seperate the features and our targer variables from the dataset. We are building a model to predict the car prices, so we'll take Prices as our target variable\n"
      ]
    },
    {
      "cell_type": "code",
      "metadata": {
        "id": "Tk8NWr8BENZh",
        "colab_type": "code",
        "colab": {}
      },
      "source": [
        "car_features = car_feature_data_scalled[:,:12]\n",
        "car_prices = car_feature_data_scalled[:,12]"
      ],
      "execution_count": 34,
      "outputs": []
    },
    {
      "cell_type": "markdown",
      "metadata": {
        "id": "XwaaAIETGZ1H",
        "colab_type": "text"
      },
      "source": [
        "Now lets split our dataset to train and test sets"
      ]
    },
    {
      "cell_type": "code",
      "metadata": {
        "id": "LBomSOx2Ge2G",
        "colab_type": "code",
        "colab": {}
      },
      "source": [
        "X_train, X_test, y_train, y_test = train_test_split(car_features, car_prices, test_size=.20, random_state=42, shuffle = True)"
      ],
      "execution_count": 35,
      "outputs": []
    },
    {
      "cell_type": "markdown",
      "metadata": {
        "id": "I6T7D7RNIH_1",
        "colab_type": "text"
      },
      "source": [
        "The training set is a subset of the data set used to train a model.\n",
        "\n",
        "\n",
        "\n",
        "1.   X_train is the training data set.\n",
        "2.   y_train is the set of labels to all the data in X_train\n",
        "\n",
        "\n",
        "\n",
        "The test set is a subset of the data set that you use to test your model \n",
        "\n",
        "\n",
        "\n",
        "1.   X_test is the test data set.\n",
        "2.   y_test is the set of labels to all the data in X_test\n",
        "\n"
      ]
    },
    {
      "cell_type": "markdown",
      "metadata": {
        "id": "ZuFTqBL8I8kq",
        "colab_type": "text"
      },
      "source": [
        "**9.2 Build machine learning model**\n",
        "\n",
        "Machine learning model is the output of a machine learning algorithm run on data.A model represents what was learned by a machine learning algorithm.\n",
        "The model is the “thing” that is saved after running a machine learning algorithm on training data and represents the rules, numbers, and any other algorithm-specific data structures required to make predictions\n",
        "\n",
        "To build a machine learning model there are many algorithms. The data scientist must be well avare that when to use which model such that the model makes a good fit\n",
        "\n",
        "Here iam using RandomForestRegressor, random forest is a Supervised Learning algorithm which uses ensemble learning method for classification and regression.\n",
        "Random forest is a bagging technique and not a boosting technique. The trees in random forests are run in parallel. There is no interaction between these trees while building the trees.\n",
        "It operates by constructing a multitude of decision trees at training time and outputting the class that is the mode of the classes (classification) or mean prediction (regression) of the individual trees\n"
      ]
    },
    {
      "cell_type": "code",
      "metadata": {
        "id": "CBQsTirQmeFm",
        "colab_type": "code",
        "colab": {}
      },
      "source": [
        "rand_reg = RandomForestRegressor()"
      ],
      "execution_count": 36,
      "outputs": []
    },
    {
      "cell_type": "markdown",
      "metadata": {
        "id": "PFa6DtP-mnFz",
        "colab_type": "text"
      },
      "source": [
        "\n",
        "Here i'll use GridSearchCV from model selection of sklearn for Exhaustive search over specified parameter values for an estimator, this is a hyperparameter tuning technique which helps us to get perfect hyperparameter for the model"
      ]
    },
    {
      "cell_type": "code",
      "metadata": {
        "id": "wrYfejGPmAoj",
        "colab_type": "code",
        "colab": {}
      },
      "source": [
        "param_grid = { \n",
        "            \"n_estimators\": range(10,150,10),\n",
        "            }"
      ],
      "execution_count": 37,
      "outputs": []
    },
    {
      "cell_type": "markdown",
      "metadata": {
        "id": "yl4J_hkNmHHi",
        "colab_type": "text"
      },
      "source": [
        "Here i'am checking for best n_estimators from 10 to 150 with the with a jump of 10"
      ]
    },
    {
      "cell_type": "code",
      "metadata": {
        "id": "TVxGNleNmU_1",
        "colab_type": "code",
        "colab": {
          "base_uri": "https://localhost:8080/",
          "height": 282
        },
        "outputId": "4e084cde-a294-4c43-b59a-6efd2b3a943a"
      },
      "source": [
        "grid = GridSearchCV(rand_reg, param_grid,n_jobs=-1,cv=10)\n",
        "grid.fit(X_train, y_train)\n",
        "n_estimator_range = [i for i in range(10,150,10)]\n",
        "mean_score = [score for score in grid.cv_results_['mean_test_score']]\n",
        "plt.plot(n_estimator_range,mean_score)\n",
        "plt.xlabel('Number of trees')\n",
        "plt.ylabel('mean test score')\n",
        "plt.show()"
      ],
      "execution_count": 38,
      "outputs": [
        {
          "output_type": "display_data",
          "data": {
            "image/png": "[encoded data removed]",
            "text/plain": [
              "<Figure size 432x288 with 1 Axes>"
            ]
          },
          "metadata": {
            "tags": [],
            "needs_background": "light"
          }
        }
      ]
    },
    {
      "cell_type": "markdown",
      "metadata": {
        "id": "3d_K222jpdJP",
        "colab_type": "text"
      },
      "source": [
        "Observation:\n",
        "\n",
        "\n",
        "*   Till 50 number of trees the model is doing realy well\n",
        "*   After 50 number of trees we can see there are many ups and down in the graph\n",
        "*   This says that our model will prone to overfitting after n_estimater > 50\n",
        "\n",
        "*   So we will use n_estimators = 50 \n",
        "\n",
        "GridSearchCV is one way of building a best model We can predict the y_test from the gird object of GridSearchCV and  GridSearchCV takes lot of computational time. \n",
        "\n",
        "So by ignoring GridSearchCV for now and taking  n_estimater = 50 i'll build a RandomForestRegressor model to get the best fit from scrach and also we'll check for other machine learning algorithms and check which model performs best.\n",
        "\n",
        "**NOTE**:- Once we use Gridsearchcv there is no need of Building the RandomForestRegressor model or any other model again, grid object of GridSearchCV handle all the functionality. As the notebooks like google colab or jyupiter will take lot of time for Gridsearchcv operation it would be beter to comment out the Gridsearchcv part and continue with other algorithms ahead.\n",
        "\n",
        "Before trying different algorithms, we'll see some important model evaluation metrics\n",
        "\n",
        "\n",
        "\n",
        "\n"
      ]
    },
    {
      "cell_type": "code",
      "metadata": {
        "id": "kzO54-Cgx8e4",
        "colab_type": "code",
        "colab": {
          "base_uri": "https://localhost:8080/",
          "height": 34
        },
        "outputId": "ec84a072-fb5d-47e5-a5c2-db8a1c398b65"
      },
      "source": [
        "y_pred = grid.predict(X_test)\n",
        "print(\"Performance with RandomForestRegressor with n_estimators = 50 is \",grid.score(X_test,y_test))"
      ],
      "execution_count": 39,
      "outputs": [
        {
          "output_type": "stream",
          "text": [
            "Performance with RandomForestRegressor with n_estimators = 50 is  0.9510446433939072\n"
          ],
          "name": "stdout"
        }
      ]
    },
    {
      "cell_type": "markdown",
      "metadata": {
        "id": "ikyqgPUxGgXf",
        "colab_type": "text"
      },
      "source": [
        "From the above output we can see that our model fitted really well with RandomForestRegressor with n_estimators = 50, it gives performance with the test set in range of 94.8% to 95.2%\n",
        "\n"
      ]
    },
    {
      "cell_type": "markdown",
      "metadata": {
        "id": "9EfqiSBbQGR0",
        "colab_type": "text"
      },
      "source": [
        "**9.2.1 R-square**\n",
        "\n",
        "R-squared (R2) is a statistical measure that represents the proportion of the variance for a dependent variable that's explained by an independent variable or variables in a regression model. \n",
        "\n",
        "![image.png](data:image/png;base64,iVBORw0KGgoAAAANSUhEUgAAAU4AAABkCAYAAADpE9mNAAAgAElEQVR4Ae3dift91fQH8N+/4IcMmUUhDdJMJEkSmkVIE0lJpaSBIlNkilAS0SAhSQqVkjHSYCjKPCQi83x+z+v4rfvs7/6cc+85997P53s/37vX85zn3HvOPntY++z3Xnutdfb6n6pQ4UDhQOFA4UAvDvxPr9QlceFA4UDhQOFAVYCzvASFA4UDhQM9OVCAsyfDSvLCgcKBwoECnOUdKBwoHCgc6MmBApw9GVaSFw4UDhQOFOAs70DhQOFA4UBPDhTg7MmwkrxwoHCgcKAAZ3kHCgcKBwoHenJg6sD5rne9q3rta19b/fCHP+xZlZJ8sTlwww031H1z5plnLnZR1Sc/+cnqec97XvWEJzyhetaznlV96UtfWvQySwHLlwN//OMf63cTdvz973+f+YYsAM5//etf1Z/+9Kdex7///e9BQ9dff/3qLne5S3XFFVcMri3lj3/84x+d6i7dvNE555xT98222267qE1/73vfW5fjPbjHPe5R//785z+/qGW2Zf63v/1twfvw5z//uS157+veo+9973vVpz71qeqaa66plFeoPwd+8YtfDN4ZIDqKYE7g1Ki0i3F/AXBedtllgwZ48bsc11577aBuKxs43/e+93Wqs3TzRksBnIBkjTXWqPvgmGOOqV/uX/7yl9XKmqie//znN74P97rXvSrv6gEHHFB961vf6v0qGLgf+MAHqjXXXHOF/FdbbbVqm222qa677rreec7zA32B86abbqr5/r//+78rhW0LgPMb3/hGRSJJD8utANCtt956hXvSff/73x9UflaA8/73v/+CeqZtIiHMGy0FcN56662Dd+XXv/71SmdxAOdGG21UPfvZz66PXXfdtdpyyy2r1VdffVDXD33oQ73q+rrXvW7w7MMf/vDqxS9+ca2aWG+99errAJTkXagbB5Y9cDY18yc/+cngJbnzzjubkgyuzQpwPu1pTxvUqfz4LweWAjjpMk2ya6211kywPYDzDW94w4L6WOq9+tWvrutLpXDzzTcvSNN04Tvf+U5F0gGOl1566YIk559/fvWwhz2s+vrXv77gXrnQzIECnCtZxxlL9QKcC1/QpQDOL37xizUQrb322gsrsBKuDAPOqM6Tn/zkus6nn356XBp6Dh3uTjvt1JpuZakmWis04zduu+22ug9Mul10nDO3VG/i7zgS55e//OVav/XOd76zsjQyAz/1qU+tPvrRjzYVMbhmBt97771r/dNmm21W7b///tX1118/uD/qx7jA+Yc//KE64YQTqqc//em1tPSUpzyloqO7/fbbG4u844476rrFcoye7OCDD64e+chH1mcPRZp3v/vddR4klSOPPLLacMMNazXCiSeeWKeJAqgP9t133+oRj3hEff/DH/5w3Frh/PrXv74u+6tf/eoK1+PPUUcdVd9ntEhpFHDecsstlbwtaddZZ51q4403rvviBz/4QZpN6+/jjz++euYzn1kPAMtgfecggaX0n//8pwJSysGvxz3ucdVBBx3U2s/Bx2G8TvNPf3cBTn1iwB5yyCHpo62/8Uj6YcDZ+nBVVUDiFa94Re1xoP2777577YXgmQMPPLCiBkiJwSl4iRc5/fa3vx3cx9uc+vYrrwvl/fznP6+NXe95z3uqJz3pSdWjH/3oKrVnKKfveGUxf8tb3lI94xnPqKg4nI2P3/3ud1MFzgsuuKDaYYcd6vfLeIMp01TPLdBx5kz3fxzgNEgNPC9YWFb9djTpk/75z39Whx9+eH3/bne7WwU0ddRd73rX6p73vGf1kY98pKlqC66NA5yWVOuuu25dtiUY0FCuuj70oQ+tmizCP/vZz+r7gPbGG2+s7nOf+9T/PXPooYfW9Yo0JJoLL7xwoFOzxAteGNgMDS9/+cvrazmvTjnllAVtDJ3zueeeu+CeC9GWL3zhCyvcbwNO5Ruwd7/73es6ONPV6Qf1vN/97ld985vfXCGvpj953aONRx999CD5r371q8pqIO6ZUBlq/Pf829/+9kHa+BF8HMbrSJufuwCnQaX8V77ylfnjjf8vuuiiQX1zHjc+kFy8+uqrVzAoUWkEnwkY6vH4xz8+eaKqeAEEv4BZTun41JdB4/Yrfa3y1BWARtnOobceZ7yq+1ZbbTXI78EPfvCg702eUc6kEqf3LfJ61KMeVW2++eYDHh9xxBHBnonOiwacgId10dLNskUnkDg1aIMNNqjymfFtb3tbfQ8oMDAEMVaxXN73vvetfvOb38Tl1nNf4Pz9739fg6N6GUAxo5NAX/ayl9V1Aor5CxuDmcQAaHfcccfqyiuvrLxQnkWRBvADZBPDj3/844qEQNqMAaPN2nfWWWfVUjqL7G677VaXbWDly75pA6e6knT1jzb89a9/retPn00iwBuDehSxnpvppQeI9FaOVC9OSnPfyxw6Re0j5QTwAqaUgo/DeJ2mT3+PAk79agCrUy4Zp/mkv7nsRR/oQ+/Jj370ozRJ429SVZSFrz/96U/rdH/5y1+q0047bTD5Tgs4ZT5OvwZwbrfddnWdTj755HrlFWNDvuOMVxMfPhsvhBUYgJc8ecKo5v4kwGl1JA/9wj0sCOBbEaaG7Lg3znnRgHOvvfZa4NPGKV6jHDFzqbSBYWn3wAc+sCKR5MTtwzOcY0dRAKeZhvTSdKQgeNhhh9V5A40czJW155571vef+9znrlB0DGb1sqzPwU3iNE0sM9NMYllLquWcnpJJIiRA+pyUYtBOS+KUd4BlWo7f8SJqJ2PKKBqm4/zEJz5R85LHAxDJCXgoh34UmASlfGzjdaTNz03ASRID6FYxVjXKtMIxiLuSScLy1bMOggLVg4mnjUg7UVbT+2Il5v40gXOcfg3gVJfPfe5zC5ozznj1QYT8CBEk5JxMPO47JgFOk588tt9++7yIqf5fNOBsc4APF5DUd44ORWPbxGhg6j4pbBQFcErfdpB+gx70oAfV6ZqW49LQr8rHDJY6N6eDOZ3ZIl/nNE3ToAyL7h577JE+NvhNwlL25ZdfPrjmx2IA5woFZH9Iw+rx3e9+N7uz8O8w4HzOc55T53PcccctfLCqav6aRPI2p3xs43VjhlVVBXDqPxKtI9QwyjE5UZNYefQlAExn/9jHPraus/wcVDNNfpwPechD6vsmkCYC5J6fJnA2lRPX2vo1gHPnnXeOpCucxxmvIYAQVJpoWlb1GK/US7k+tqncca8tOXCSJrwcV1111aDORGjXLGU//vGPLzjMIpa6fPFGUQDnJptsUksUXsb8CGk3AFnZ6XIyLYMUGjq4dDCkg7kJFOUxKo0lkLLbgHOLLbao75utU1pM4CSh4DfjheVk6uA9TJqK+g0DzpDu8qV4POtssOKJT3eDRvEx0jWdAzipPACSI3TAJnEGu5wYEZrew7Z+9rz3OVYQ6u+dsQQNYmR03dG0qpJuMYGzT78GcDKWNtE449V41PY24/C0gFN9X/jCF9ZlmSytfOmhm1aTTW3rem3JgTOkqBQ46VLipRp2ZoUbRQGcXdyRAIHyLB2HUQz4tNO7DOZRaXgcKJ8k1kShMF8K4DSwSPwPeMAD6jrhtW/MqUfwRz27GELagJPuNyS9YV4SMSidg0bxMdI1nQM4Uz9OOmZqIW1K+zSej3vup0eXTzXp7uJ98a7HKoWXibwAahstBnCO06+jgLPveAVaYRBtWzFMEzhNcCz1sXrBd33ysY99rI31va/PBHDSH2ocNwxL+LYjd69pam0f4LT0VK6ZqUnnFPnHEisFji6DeVSaWQFO+kQ6IbxwNqmlMzRDj3tp+4M3+bkNOKWLTzGHSa6xpEv12aP4mNch/d8EnO6TaLWJ61cOiNQ2n/nMZxYcwyTOtMxULxxAwfNCeVZObZtYTBs4x+3XUcA5zniNyShXOwXfpgmckacxzViZAj1XsmnQTABnfL7WpuPs09A+wImxMRO2Wdvovrzwjljiq0+XwTwqzbjAyVtBfc4444xG1sRSNAe6NnekUKj7nLZpUE8LOAOc3//+9zfW28XQF1oqB43iY6RrOrcBp77n34ePr3nNa5oenegaQJZ3rBYYPPx3tPnFtgGnPhn2bJs70rj9Ogo4xxmvVCTawNDbRIsBnGk53n2TlsOKY1KaCeCMjUWI1qnLwziN6wOc8o+vRuj0moizrg5npU+py2AelWZc4IwZv0kHZVCGT2lX4Ay3q1TKS9saes48vzRN/B4mcQIovKSCaCLLXPcZbLhtBY3iY6RrOrcBp7SXXHJJXR5Lbxd3osifNNpkbY77QDI8IlKQDDVVG5/brOryDTemJqMrdQO+OVI/znH7dRRwjjNewx+UV0QTpR43k1jVm/KOa6Fn7fIexzNt55kATpUL518K9tzCadmYGmbaGuN6X+C0lKJ7M3gMiJTopULnl9/rMphHpRkXOH2hY5Dwh00NDdyWAuTcz1+Q8LF84hOfmDZz8L02aS8l/qjhHN6UX5o2fg8DTvkx0sgrB30Sx2Me85j6XuowL99RfIyym87DgFN6/rfq06ZnzvMEhPe+971rycVkm0/0vtIJ7wHtSVUep556al0WnfHXvva1FbKmHghdcm5VlzBcn6gyUlctFvoAae1IgTO8Nvr26yjgVJ++4/Xb3/52zTN1NEZTApoBau5PApz2StAvufqFVE4lJ//wn03r0Pf3zAAnCYNjrIZZGvr8jdWZq8imm25aN7ptOZ02ui9wejYkIQDqhfDCsXSHQ7bPAXPqMphHpRkXOH0gEIYWdQQOZnIvhoFlA2F8zIGT/6rrJonUau2roHip+LNyzjd4gJwjlrR5fjlP/B8GnO6bgJSvHrwDjj322OpFL3pRFXpkngT5Sz+Kj031iGujgJOeO9reJM1FPnEGhHxyw9PC0s8Xcvvss8/AKKRt3GHy99WSOyYHPPCOmSSi76xqPNsEnD6/dc/BhQ7PgI3yjRPGPPdS4By3X7sA5zjj9aUvfemgDd4zbfe5qRUS401MHJMAZ3yVRlVi3PINpgIM1ckLXvCC6MqJzjMDnFqBYS95yUsGAyteFIOXI3s+oJpaPg5wyufiiy+uv2uNMp2pDuhGmqjLYB6VZlzgVB/6MJJP1JfhhX+kgROfnDUBHSdtz5BSUn2mZWK8uO57mQ0gjurxOWhTfjlvRgGn9CRjEpRBH/UHRD55TOsUeY/iY6RrOo8CTs/EkhYQsf53IV89UZkEYEU7gPB+++234EuzyNM77H6Atecsw4Gfd9D/JuBkmCJJRTnOVhzhFWCbPNdS4FTmOP3aBTjlPc54NY5j0lFf7zCA83FFfI45CXB6f3zVlPcLAcPeE6m0Hn0yzrkTcI6T8STPeEn415EAfKGxlGTJqNxUx7aU5fcpyyD0SSpH33RJOCoPkhDLeW4l9sLaOISkkt8blec49/nOAlrLuKUob5w6dnmGusQ7Q3ptAv6mPAxgy3XW9ug77jLApAk4Iw9flOm7PqFpFrtf+45X6fW5d60rv6L9fc6MufqFmq+L0NUn75kEzj4NKGkLB1YVDrRZ1VeV9q1K7SjAuSr1ZmnLsuZAAc7l030FOJdPX5WaruIcKMC5fDq4AOfy6atS01WcAwU4l08HF+BcPn1VarqKc4B/IV9bBo1Cs82BApyz3T+ldoUDhQMzyIECnDPYKaVKhQOFA7PNgQKcs90/pXaFA4UDM8iBApwz2CmlSoUDhQOzzYECnLPdP6V2hQOFAzPIgQKcM9gppUqFA4UDs82BApwz0D/2Z3zjG99YvelNb6re/OY317sT2ak63czXdlmuRRrppV2OZOOJAw44oN4daJJNhH3n3BQxcal4ot/Et7EVYttmMFEXu1FFH+tDv7U93wf0s5/97KCfpdPnEUY58prWOd0rdFp5pvms7P5J6zLt3wU4p83RMfITNVBMnAgvYCd2O7ykwb6EE7E7Tmy/Jh6QuCrLkQRDi82Y7dY0LtkQ2Q5LwGZlkO3l9JWNOUZNYmeddVa9B2lElrRVIlC0qUxKdqBK44/b0ScH1zT9uL9jp6VXvepV42ZRP2f3rHxHpshwZfdP1GMxzgU4F4OrY+YZm9W+4x3vaM3BfpbSLXeKkCSTAKcNmYHWsBhGi80nzupdgDPqYW9I6YcFE7SNnv06002q4/lpnQGmegiDMQnZyaltB7NZ6J9J2jbs2QKcw7izxPcCOO3N2EYkEmF7lzvZ5svAnQQ4bRsm3MbKpNh/dJTEGXW0ZZ9224gaQDbR6aefXm9O3XRvWtdE37z66qsHUTjHydf2cPbWbAPOWeifcdrV5ZkCnF24tERpAjhtcNxGqwpwCls7KXC28WgprwMf7egKnOpmx3jPiGfVRNtuu20dD6np3ixdi/1D24Bzluo67boU4Jw2RyfIL4AzDWuRZwc4xclJif6TPtSLLOaNjXEZFPwftiHzbbfdVpFuTjrppHr38XQzYZsdMx7YMNcR+TgzyJCW6N4suenpbK570UUXVZ/+9KfrqnlWhEffXtvdO6dhwKk9oiECIxJd02a3sdE1A5rfiBRlc9xLL720Ovfcc+vdvj1rs2f1yGNZpXUaxos0nfAjF154YUVPayk9DnC+9a1vrYHTjvM54am4UW070Y/ijb4nhQsmd95551W333573V/6Ipb++k5/aUfTd/FdypBfxLfyTtqYOPpBm5r6J20rvSje0fOKepqH/p6kL9NyFut3Ac7F4uwY+UbY31HAudNOO62QOyV8BOwChKy8YqsIRbH66qtXBx544Arp/WGsEB6DddcgEIGRoSNCp1IHRFhg0pEYMYg05L+DoQNQCocQQe3WXnvtiuFKPB15q5t0goql1AacQFxYCUCnXuInid+TB+vbZZddBiFWgl92YF9vvfUG9TOghZRgYMEP4RNY9HMaxQvphROmF8Rn/NXm3XbbrVY14EUfidNEEzGj7N6fEiMhw00TdeGNgHji90T+3gHqEPG89JHlszIiTEquKulShomJbjPy2Hzzzev/Ql8ENfVP3APc+kVQO/3MOOq90U8xYYzbl1HGYp8LcC42h3vkH6GKAwiaHiUheClzApgGMJ2TyJ1B4gUZRCTRoDBokHyCSDqeT2PbkwrC+h2WazFuBL4S9iG1ppIqGTQcaURQACnKojqIGhrUBpyCtakHiQgpw4AE7Cy4KQFBaXN+7bXXXvV1YJFKuwKlAdZUsu7KC0HllAWMUzrssMPq632A0/MmP/npn5QEbLvhhhvSS4PffXjDVUr+G220US2xA3kTJeBEVhHu58DZpwyTozzalupN/aPf119//TooYoQMUR/vp0mJBJpSn75Mn1vs3wU4F5vDPfIPaW6YjtNANwhyIp15iXPDEZcl11M/Q9ElXcv9+LjICFCXkuUtAAKWwHWzzTarLOWaSPTFddddd8EtwKa87bfffnCvDTgt+c4+++wVQDnC3OaxzEm78s2BMyzX/CBTirC9qVGmCy8MalJwU0xw6gl16AucEQude1lIWV/5ylfqSSatc/q7D28iaGH4yZqA0rg7JFP1zoGzTxmjgLOpf/SJclMf5Wijuqy22moDtZDrffoy8lmKcwHOpeByxzK22267+qWyDGwj8bcthXOic/NC5jM2X0PXhZdFdEdAgAToxU+PWJpLkxLpkjRAYsljYqfpgEATcF5//fV1HUijIaW2Aaf8pAEiBpmIi6QmbQj9aZR5ySWX1Ndz4DzyyCPr6yG1RvqQnkNf25UXJh3lC8mbUwBnDtJ5uvy/9odPZ0joIrwOmzTl0ZU3AZz0nE00zKuhaxmjgLOpfyJ8L++CnCJ8cETudL9rX+Z5Lfb/RQFOyngN5sdlxluZX3csNgOnmX84Pg+TXoAHvV9OMYDpFVOKARTAmcZWt2xjPEgPURSbCGgAj1NOOaXpdn2NtNoEnAw0nnXEUrENOH0hJewtwwM+WBqHz2EOnNQH8syBM5y75ZVShAoO4OzKC76OyvFO5xR87wuc8okwvPoTiAsTHPzJy/G/D2+i3+kQm2ga/A8JPnfij/Ka+idix+e6Xc9EmGY62KCufRnpl+o8deBkHSMR3XHHHfWA3GGHHWodVarPWKrGLbdygJ4BauZtI8r+448/fsHtWBblAzgGUBhF9EPEYw8AWZBZdoF0wABgqUpqzA01kbwNOKkEtItEG8vSGLip9CwdHS3wpRYIOvHEE+vngZRQtww1qGlguh6DjdSaUgBn5N2VFx/84Afr8vfZZ580u/p3AKc69iUSMb7g6Wmnndaogok8+/Im+t1KpImC/+lSvW8ZAZx2rkcmVYajoKb+oUrS5lxX7Jl99923vnf++edHFp37cvDAEv2YOnCa/X0GxyqGQvfG9aHQcA5wF7EkZkUGEDnRN7p300035bdq1xIvZD6ADUjXAzg9aBXgmr7JCWgHuLlnAtxwww1rgwUJjR6T1TY1ukQegJM+NKfQs6Z187w67L777oPkPjN17YQTThhc8yOAEEjxEODGggxS6XOJk8HF9dQYJf2ee+5ZXw/gdK0LL0iB1BuMXDnF+51L+nm6pv+Am9FLXU0YuedB+kxf3kS/twGnuO7KTYGzbxk5P4877rgV/E+b+ufMM8+sy837TFsZprxbqfGuT1+m/Frs31MHTlIMPZsZDfGr00EXX3zxYrdllcjfrE3/SKpMpXR89ZI3fVtMJ0U3hs/0ZKGj9Lxlj+vuR37u0xtyAYllljy8zPG5p/4jEXE7Sa34XEfkR3rLrdyA0z1+eUH8+bjBWKKlagCWY2kZjGKgkFBMuuH6JA/SzBprrFGnBf677rpr7TPoXgQ3S/W66m3pK2/qiWizySCknXSZ2IUXygpQ4R8aZKIz0IMfwKgvBXDbpyD6rSmPPrwhkYcXAG+L4G+ar35Xb+qhuN+nDHlx45JHqFD4F4f06X5T/yhLP5gwTMRBJg2TUzqZ9+3LyGspzguAE9BhenoYrCybdD0GVptVtanCnqW7GfZSND232NfUp0mqW+xyu+TPWGBZC7TMuHbg4Y+pDwBcTgYdQwO/OhKppbjlNSkmrjtbEsaERq959NFH16DGms8VimQHaLzcnpWXw3PhoCyfNM8UVAHnWmutVecD/EiTJgFSYiqhMtIwNKX15ayPGLO8L6z30hlkVi/q6Bl6MMQQldYDv+jWtV2d5e0+wCZ14V96XXuDhvEi0jgDT/nrF+AMdMLiD0CA/q233po+MvJ3qDEOPfTQkWm78MYKIe13bdZ2ngpBTfwP5/UuZUQ+AJpPqz73HuBPUFP/xD1j76ijjqrfcWCrLxiNUjescfsyyljs8wLgVHngGGK4F5+SnsRiZudIbLnGJ+7GG28cWj8vBWkhllZDEy/RTe4W2mL5Oeu7C+GfpQ1QSWfyabKK1KjPQ+qYJO9UxwkoWdOHGTvaygLevlxK3YakTd1p2p6d5HoXXhj03qHwXQRU/pPgxpE41Zdk3LV/l4I3fcvw0cQ4Qgh+AWw+pcuNFgBnNIBi3SxqmZUTEZtUYGbLLZeRFjN9QmjmmAUyiA1sMyE9nLbNOnDOAt/61ME70aTj7JNHSVs4sBw4MBI4DYYmClcKS6mcLAdJrGHEAFptSur82cX6r07xrW58K0xfV2g6HCCJWRZaMhcqHFjVOTASOC21mygcU+mSUqKD46ZgWW8JYqm59957z9RyvQBn2mOT/2Ytp38kxTvovMLINHnuJYfCgdnjwEjgtLRtIgpmg8Q5pbC6xiCK8zi6rjTfaf4uwDlNbla1dZ2Bhb7P4fewnYimW3rJrXBg6TkwFnD6zpS/IWtYLH+Xvurjl1iAc3zelScLBwoHqmokcHJFoa8kWdpcgjWaSwafOta3aRJfRU7GfQ871PShAM5iHOrDtZK2cKBwIDgwEji5HvnWHKhxj+G3xl9NlEIGgWkTI86wQ5kO3z87+JI1+TYOq1cBzmHcKfcKBwoHRnFgJHA26TjDop5/Fz2qsFm5H8A5bMOKvK6kU1+59Dm6qDFCB1zO/zUsFT4UPozzDuTjdbH/jwWcsZegT/aWIwVwNn0v29YeztecnvscbXmV64UDhQPLmwMjgbPJjzN24jEz2BB1WuRLEa5MfQ+bC/ShcYCzT/4lbeFA4cCqzYGRwOk76JxsphvidIRnpZdMP9rPn+nyn67Sd8l9j/j8rUsZ0gRw+vSyUOFA4UDhQF8ONAIna7kvfYCjDQJynzzf9HJydj9CnNoRJ373rcRSpgfONhhQdxtG5G1byrqUsgoHCgeWJwcWAKd9/IBl7DwTu8z4Lj22INNUe+1J4/tvoCl2i40ZZpV4BsSuMbFLjrM2uD5LDvqzysNSr8KBwoH/cmABcPZhjD0ObUN36qmnrhBTuU8eJe1scMCu23YN73NEKOGV0QKbyxx00EG1j3G6i3xTXez+ZEtEn4ba6cvZJ8Fit6fEtc3+mGk6/FgM8oVVuj/pYpRBWFgMl8HFqOtyy3Mi4FxujS31beeAKJbUF+KgH3zwwZX9Ie076Rqp3M7wgIrhzkcRrl955ZXtGY64Mylo2BPW/qG2Pcz3S8iL5n8sAF6E5FV3Gz7nO64TBIQmsRKRxkcf6c75eb7j/re6wUMfkkwy+QD6NuNshPQQ96vQ9DlQgHP6PF2WORrIdgtPie8qAAGgKfkYwuYvTSFe03Rtv+3daOf0aZCvzEYBZ5QDsHwqrE3D9ojlp5zHO488pnH2Lb9NUWzZmO+i3yd/URVMAE0klLJ2ipxaaPocKMA5fZ4uuxxtOsx7Iv8CKzZs2XLLLRe06fDDD69VNAtudLgg3PC0gJNuvStwqprPhgEK6bmJ8MDWeLHjfVOaaVy7+eabF8S175vvSSed1Aqc8sLnSSX7vnWal/QFOOelp4e00w7c22yzzYIUEZMdOOVE95fG+snvD/t/yCGHTA04t9pqq17ASUoGnMC2Sf93xRVX1IbOYfWfhXvUCsKLtEmcs1DHVbkOBThX5d7t2DY6wJNPPnlB6mHAKX71uDIAAAcfSURBVKaRsLkpkdYsgQEqT4tcahMqga6RXlKwLiEnHJb+Kcnnsssuq8PN+rpLiJa2DWX6AiewtEQGnk2qBvHjtbuJ7rzzzjqaKEnPXrN5aA/PaDPwpT/VNu5uXPsi6qsQJXyfLaUFM8t1nF3K4N2y//77122ghw0+UgEgeTCeiV3lK78muu2222rjmOicPmjJw36InSSEr+BpES2Uv7Rotfp+3qkA57y/AUPaPww488eAiCU949EFF1xQWeb7JPeYY44ZhBsWcZO+VDRDOlW/HenuVkBTJEtB1i6//PLaOCPfTTfdtAaEvNy+wOl5hi7AKdBYSj6rtalN0/JW+zbYYIO6fYDRRs1rrrlmHYMrzQOQhfGMkU0sekHdTBbAErhFZEx1EB0hqGsZvAg23njjug2+7As+hiFLtErqhpCsI/84013bg8KkdMkll9RGMLuepYCoT7glyoNaQ9RV+zTow/XWW6/uD5vszCsV4JzXnu/Qbm5mBk7TUj193Fdj66+/fg14qWR4yy231MaYfElP4mvTcXLTATLAJ5bSJB2W/Rzo1GEc4CTxaRdDUeq/e84551R77LFH2rTB77BSp6GLSXTyyaV1kprr2kCaB7LaJH2QyKXSpMDZpwwuVp5vW6qbgNZdd90Faowzzjijfu6aa66JqtRnu53xyQ6p1UV6WGXwc04jWJI6XQ+gXiGjOflTgHNOOnqcZnYFTrtkGUhNS1+x4FdbbbUVluPDgFM9fVxBqkuJDlYZQDqlcYDT8yH1pTtkiZ/VFhuL6w+gSD/yIHHZYjF3+RFrS13TEMR5FEiuVNKkwNmnjFHAqY1cy1LDmTqQqEmrOamH+qRGM5OYawyHaXhnqhPXeR/MKxXgnNee79DursApJraBlC71IvtYFqe6tlHA6VkASQLjkL7vvvvW7k/KyP0WxwVOTu7yC48By2QSF/AaRiQyAComvWU54ARQKQVwtkmD0lJhKD8FzsijSxldgDP3OKB/VibPgpzoPN1LVwL0s66lUrbnhPR1nT54XqkA57z2fId2dwVO+kgD6dprr12Qq/0A3KMbCyLB0Be2EcMSJ3QDn55VvgavfKYFnL6qAXryZLhh8OFi1UaA/Igjjqj1swDz7LPPrpfh9LVtwKntbcTRXtkpcPYpI6S+VELMy8onlXPPPbcus0nlQa+rPtoT6hZGJtfoaFOKiaEAZ8qV8rtw4P850BU4LXENMLq9nEiL7vmkMwhwMjAE7bPPPgPrMj2j9DvvvPMKy/Iow2C2hAwCDkB2HAowPvbYY+uQME0Sc+Qbm3f7dDMlQLPFFlvUPrCxYUwAi0iwbdQEnH3KCOCM5TKdJp6llAMn6zjeMljlRBfrHiNRkEnKtTwEeLSPZX9eqUic89rzHdrdFTiFgDbAmjaGBiqWf9xwglh0uSMFbb311hWLNtpll13qvHIdJ6lOGYAzXU5aajMcjUOW3PJk/Nhkk02GZuHzSCAZBiuJA1i00ZaKVBaIS5J8hwEnsJYmlTjHKSPAS71yI16+VKeTZcSj5wS0KYVhysQV5KsmdcyBM9oXZUf6eToX4Jyn3u7RVoOMC4qBA6hIU7GEy7MBigYXMEz3ZOXLCGz4AqbEgstgxIcRYHKnCbIptTJTSzwrbrj4kIxYi5Hlpbq5F8Ab+XQ5Az6gqbzUatz0LHCX7qqrrhrc9lmmstdZZ52KldoSHgUI7bfffnVcrMED//8DaHFVyvPrUwaeU5EE79SLPjmIrpYRiEtRyhv+seqcqk4YjRi45JUCKglcHU0M6aehynKd4S9NH2XPw7kA5zz0co82AixgQoqzBGaVdfhvELbpJkk89jnlP7jjjjvWFmUSGCNGTizTJEUDm/4slS4BguWnsnbYYYf6Pl0aJ29+kww49Ius4b73jjpKn/qD5mW2/adKAO6jNsPmtsRKrkxRX0lz9p81KeAXAFdH1/EKz9RN+lQPed1119Xpo97S7rXXXnX1upYRbVG2yYrKgY9luFbhDek1ylAH20UGMRIBSvznE6ruJo7UL9N1z0U78JeEnrdPOfxT540KcM5bjy9ye32BwurqM85RRDr16WATkZjo8VJ9prTp4G56ru81Eux5553X+TFSqnqlX9r43SaNd844SdinDOUydI1DPAm0JXeVGieveXumAOe89Xhpb+FA4cDEHCjAOTELSwaFA4UD88aBApzz1uOlvYUDhQMTc6AA58QsLBkUDhQOzBsHCnDOW4+X9hYOFA5MzIECnBOzsGRQOFA4MG8cKMA5bz1e2ls4UDgwMQcKcE7MwpJB4UDhwLxxoADnvPV4aW/hQOHAxBwowDkxC0sGhQOFA/PGgQKc89bjpb2FA4UDE3OgAOfELCwZFA4UDswbBwpwzluPl/YWDhQOTMyBApwTs7BkUDhQODBvHCjAOW89XtpbOFA4MDEH/g9HIQnQavYwlwAAAABJRU5ErkJggg==)"
      ]
    },
    {
      "cell_type": "code",
      "metadata": {
        "id": "8ZG7wzYYRrOl",
        "colab_type": "code",
        "colab": {
          "base_uri": "https://localhost:8080/",
          "height": 34
        },
        "outputId": "422b2e60-16c5-43f0-9ba4-2c612f8f7171"
      },
      "source": [
        "print('R-square score of the model is ',r2_score(y_test,y_pred)*100,\"%\")"
      ],
      "execution_count": 40,
      "outputs": [
        {
          "output_type": "stream",
          "text": [
            "R-square score of the model is  95.10446433939072 %\n"
          ],
          "name": "stdout"
        }
      ]
    },
    {
      "cell_type": "markdown",
      "metadata": {
        "id": "UvQsEchhUZk-",
        "colab_type": "text"
      },
      "source": [
        "The higher the R-squared, the better the model fits your data, from the R-squared results we can say that our model is fitted very well"
      ]
    },
    {
      "cell_type": "markdown",
      "metadata": {
        "id": "CcyufaCnUkiT",
        "colab_type": "text"
      },
      "source": [
        "**9.2.2 Root Mean Square Error (RMSE)**\n",
        "\n",
        "Root Mean Square Error (RMSE) is a standard way to measure the error of a model in predicting quantitative data.It is the standard deviation of the residuals. Residuals are a measure of how far from the regression line data points are. RMSE is a measure of how spread out these residuals are. In other words, it tells you how concentrated the data is around the line of best fit.\n",
        "\n",
        "![image.png](data:image/png;base64,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)"
      ]
    },
    {
      "cell_type": "code",
      "metadata": {
        "id": "6U6Ml8ZYVaBe",
        "colab_type": "code",
        "colab": {
          "base_uri": "https://localhost:8080/",
          "height": 34
        },
        "outputId": "092983de-9ee7-4314-ff51-392737d0a48c"
      },
      "source": [
        "print('Root Mean Square Error (RMSE) of the model is ',np.sqrt(mean_squared_error(y_test,y_pred)))"
      ],
      "execution_count": 41,
      "outputs": [
        {
          "output_type": "stream",
          "text": [
            "Root Mean Square Error (RMSE) of the model is  0.22301509727083546\n"
          ],
          "name": "stdout"
        }
      ]
    },
    {
      "cell_type": "markdown",
      "metadata": {
        "id": "3JSKi0d3V_JU",
        "colab_type": "text"
      },
      "source": [
        "Here we can get that our model has learnt the parameters with a small scale of error"
      ]
    },
    {
      "cell_type": "markdown",
      "metadata": {
        "id": "GLyEAJjOWMcw",
        "colab_type": "text"
      },
      "source": [
        "**9.2.3 Mean Absolute Error**\n",
        "\n",
        "MAE is simply the average absolute vertical or horizontal distance between each point in a scatter plot and the Y=X line. In other words, MAE is the average absolute difference between X and Y.\n",
        "\n",
        "![image.png](data:image/png;base64,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)"
      ]
    },
    {
      "cell_type": "code",
      "metadata": {
        "id": "WrkgccMJW1Ln",
        "colab_type": "code",
        "colab": {
          "base_uri": "https://localhost:8080/",
          "height": 34
        },
        "outputId": "ddccdad6-d546-407d-a199-2d58eb0bf4da"
      },
      "source": [
        "print('Mean Absolute Error of the model is :',mean_absolute_error(y_test,y_pred))"
      ],
      "execution_count": 42,
      "outputs": [
        {
          "output_type": "stream",
          "text": [
            "Mean Absolute Error of the model is : 0.15887307538182288\n"
          ],
          "name": "stdout"
        }
      ]
    },
    {
      "cell_type": "markdown",
      "metadata": {
        "id": "-hJXXyeZXDoQ",
        "colab_type": "text"
      },
      "source": [
        "Here we can get that our model has learnt the parameters with a small scale of error"
      ]
    },
    {
      "cell_type": "markdown",
      "metadata": {
        "id": "y6IA3iRakLUl",
        "colab_type": "text"
      },
      "source": [
        "## **10 Try different algorithms and check their performance**\n",
        "\n",
        "Now lets try fitting our model with different machine learning algorithms and find which algorithm gives a best fit for our dataset\n",
        "\n",
        "**10.1 Support Vector Machine - Regression (SVR)**\n",
        "\n",
        "Support Vector Machines (SVM) are popularly and widely used for classification problems in machine learning.It tries to find a line/hyperplane (in multidimensional space) that separates these two classes. Then it classifies the new point depending on whether it lies on the positive or negative side of the hyperplane depending on the classes to predict"
      ]
    },
    {
      "cell_type": "code",
      "metadata": {
        "id": "6KiwDx7Xk1Wk",
        "colab_type": "code",
        "colab": {
          "base_uri": "https://localhost:8080/",
          "height": 51
        },
        "outputId": "74ff3ca1-9706-4655-99d0-01d327ce5ad6"
      },
      "source": [
        "from sklearn.svm import SVR\n",
        "SVM_reg = SVR()\n",
        "SVM_reg.fit(X_train,y_train)"
      ],
      "execution_count": 43,
      "outputs": [
        {
          "output_type": "execute_result",
          "data": {
            "text/plain": [
              "SVR(C=1.0, cache_size=200, coef0=0.0, degree=3, epsilon=0.1, gamma='scale',\n",
              "    kernel='rbf', max_iter=-1, shrinking=True, tol=0.001, verbose=False)"
            ]
          },
          "metadata": {
            "tags": []
          },
          "execution_count": 43
        }
      ]
    },
    {
      "cell_type": "code",
      "metadata": {
        "id": "ZxOH4JlJyplb",
        "colab_type": "code",
        "colab": {
          "base_uri": "https://localhost:8080/",
          "height": 68
        },
        "outputId": "32dfe82f-4050-4042-cd99-b4e09bd45efa"
      },
      "source": [
        "y_pred = SVM_reg.predict(X_test)\n",
        "print('The r-squared score of the SVR regressor is',r2_score(y_test,y_pred))\n",
        "print('The Root mean squared error score of the SVR regressor is',np.sqrt(mean_squared_error(y_test,y_pred)))\n",
        "print('The Mean absolute error score of the SVR regressor is',mean_absolute_error(y_test,y_pred))\n",
        "r2_score_SVR = r2_score(y_test,y_pred)\n"
      ],
      "execution_count": 44,
      "outputs": [
        {
          "output_type": "stream",
          "text": [
            "The r-squared score of the SVR regressor is 0.8777391236634394\n",
            "The Root mean squared error score of the SVR regressor is 0.35243408771234486\n",
            "The Mean absolute error score of the SVR regressor is 0.24274448895758752\n"
          ],
          "name": "stdout"
        }
      ]
    },
    {
      "cell_type": "code",
      "metadata": {
        "id": "XbooBAzY39qj",
        "colab_type": "code",
        "colab": {
          "base_uri": "https://localhost:8080/",
          "height": 367
        },
        "outputId": "93575f6e-86e6-4207-c929-9f2a0e46e709"
      },
      "source": [
        "plt.figure(figsize = (10,5))\n",
        "plt.scatter(y_test,y_pred,marker = '.')\n",
        "plt.title('prediction with SVR')\n",
        "plt.xlabel('Actual values')\n",
        "plt.ylabel('Predicted values')"
      ],
      "execution_count": 45,
      "outputs": [
        {
          "output_type": "execute_result",
          "data": {
            "text/plain": [
              "Text(0, 0.5, 'Predicted values')"
            ]
          },
          "metadata": {
            "tags": []
          },
          "execution_count": 45
        },
        {
          "output_type": "display_data",
          "data": {
            "image/png": "[encoded data removed]",
            "text/plain": [
              "<Figure size 720x360 with 1 Axes>"
            ]
          },
          "metadata": {
            "tags": [],
            "needs_background": "light"
          }
        }
      ]
    },
    {
      "cell_type": "code",
      "metadata": {
        "id": "QQM1uXt16QnW",
        "colab_type": "code",
        "colab": {
          "base_uri": "https://localhost:8080/",
          "height": 353
        },
        "outputId": "78835224-fbc7-4819-d3e4-4b373363d4cf"
      },
      "source": [
        "plt.figure(figsize = (10,5))\n",
        "sns.distplot((y_test - y_pred),bins = 50)\n",
        "plt.title('prediction with SVR')"
      ],
      "execution_count": 46,
      "outputs": [
        {
          "output_type": "execute_result",
          "data": {
            "text/plain": [
              "Text(0.5, 1.0, 'prediction with SVR')"
            ]
          },
          "metadata": {
            "tags": []
          },
          "execution_count": 46
        },
        {
          "output_type": "display_data",
          "data": {
            "image/png": "[encoded data removed]",
            "text/plain": [
              "<Figure size 720x360 with 1 Axes>"
            ]
          },
          "metadata": {
            "tags": [],
            "needs_background": "light"
          }
        }
      ]
    },
    {
      "cell_type": "markdown",
      "metadata": {
        "id": "nPmFgquP1U6Y",
        "colab_type": "text"
      },
      "source": [
        "The performance of our SVR model is quite good. The performance of 87.7% is quite reasonable.\n",
        "\n",
        "From the graph we can check the residual, it says that our residuals or the errors are normally ditributed.\n",
        "\n",
        "**10.2 DecisionTreeRegressor**\n",
        "\n",
        "Decision Tree algorithm has become one of the most used machine .Decision trees are predictive models that use a set of binary rules to calculate a target value. Learning algorithm both in competitions like Kaggle as well as in business environment. Decision Tree can be used both in classification and regression problem"
      ]
    },
    {
      "cell_type": "code",
      "metadata": {
        "id": "U6o1VxFT1t2E",
        "colab_type": "code",
        "colab": {
          "base_uri": "https://localhost:8080/",
          "height": 119
        },
        "outputId": "9f52f8ef-cf5e-4749-efbf-c93c489e0f96"
      },
      "source": [
        "from sklearn.tree import DecisionTreeRegressor\n",
        "deci_reg = DecisionTreeRegressor()\n",
        "deci_reg.fit(X_train,y_train)\n"
      ],
      "execution_count": 47,
      "outputs": [
        {
          "output_type": "execute_result",
          "data": {
            "text/plain": [
              "DecisionTreeRegressor(ccp_alpha=0.0, criterion='mse', max_depth=None,\n",
              "                      max_features=None, max_leaf_nodes=None,\n",
              "                      min_impurity_decrease=0.0, min_impurity_split=None,\n",
              "                      min_samples_leaf=1, min_samples_split=2,\n",
              "                      min_weight_fraction_leaf=0.0, presort='deprecated',\n",
              "                      random_state=None, splitter='best')"
            ]
          },
          "metadata": {
            "tags": []
          },
          "execution_count": 47
        }
      ]
    },
    {
      "cell_type": "code",
      "metadata": {
        "id": "YVI52jeQ2qNB",
        "colab_type": "code",
        "colab": {
          "base_uri": "https://localhost:8080/",
          "height": 68
        },
        "outputId": "25402f62-2019-4f9c-9ce3-7ca11773b612"
      },
      "source": [
        "y_pred = deci_reg.predict(X_test)\n",
        "print('The r-squared score of the DecisionTreeRegressor  is',r2_score(y_test,y_pred))\n",
        "print('The Root mean squared error score of the DecisionTreeRegressor is',np.sqrt(mean_squared_error(y_test,y_pred)))\n",
        "print('The Mean absolute error score of the DecisionTreeRegressor is',mean_absolute_error(y_test,y_pred))\n",
        "r2_score_Decision_tree = r2_score(y_test,y_pred)"
      ],
      "execution_count": 48,
      "outputs": [
        {
          "output_type": "stream",
          "text": [
            "The r-squared score of the DecisionTreeRegressor  is 0.9380318989051405\n",
            "The Root mean squared error score of the DecisionTreeRegressor is 0.25091016092251156\n",
            "The Mean absolute error score of the DecisionTreeRegressor is 0.1743223908174347\n"
          ],
          "name": "stdout"
        }
      ]
    },
    {
      "cell_type": "code",
      "metadata": {
        "id": "t58U0MR_6hTo",
        "colab_type": "code",
        "colab": {
          "base_uri": "https://localhost:8080/",
          "height": 367
        },
        "outputId": "7daeed08-4492-4492-fb26-3e55ac9cf9a3"
      },
      "source": [
        "plt.figure(figsize = (10,5))\n",
        "plt.scatter(y_test,y_pred,marker = '.')\n",
        "plt.title('prediction with DecisionTreeRegressor')\n",
        "plt.xlabel('Actual values')\n",
        "plt.ylabel('Predicted values')"
      ],
      "execution_count": 49,
      "outputs": [
        {
          "output_type": "execute_result",
          "data": {
            "text/plain": [
              "Text(0, 0.5, 'Predicted values')"
            ]
          },
          "metadata": {
            "tags": []
          },
          "execution_count": 49
        },
        {
          "output_type": "display_data",
          "data": {
            "image/png": "[encoded data removed]",
            "text/plain": [
              "<Figure size 720x360 with 1 Axes>"
            ]
          },
          "metadata": {
            "tags": [],
            "needs_background": "light"
          }
        }
      ]
    },
    {
      "cell_type": "code",
      "metadata": {
        "id": "PbXmXqWy6ldc",
        "colab_type": "code",
        "colab": {
          "base_uri": "https://localhost:8080/",
          "height": 353
        },
        "outputId": "22cb23a5-701f-46fa-b25d-de8412450ac0"
      },
      "source": [
        "plt.figure(figsize = (10,5))\n",
        "sns.distplot((y_test - y_pred),bins = 50)\n",
        "plt.title('prediction with DecisionTreeRegressor')"
      ],
      "execution_count": 50,
      "outputs": [
        {
          "output_type": "execute_result",
          "data": {
            "text/plain": [
              "Text(0.5, 1.0, 'prediction with DecisionTreeRegressor')"
            ]
          },
          "metadata": {
            "tags": []
          },
          "execution_count": 50
        },
        {
          "output_type": "display_data",
          "data": {
            "image/png": "[encoded data removed]",
            "text/plain": [
              "<Figure size 720x360 with 1 Axes>"
            ]
          },
          "metadata": {
            "tags": [],
            "needs_background": "light"
          }
        }
      ]
    },
    {
      "cell_type": "markdown",
      "metadata": {
        "id": "y5Lgv3UT26kP",
        "colab_type": "text"
      },
      "source": [
        "Training our dataset with DecisionTreeRegressor helped our model performance. The performance is increased by 6% compared to Support Vector Regressor.\n",
        "\n",
        "From the graph we can check the residual, it says that our residuals or the errors are more normally ditributed when compared to the SVR"
      ]
    },
    {
      "cell_type": "markdown",
      "metadata": {
        "id": "c0Mv8wC66ta5",
        "colab_type": "text"
      },
      "source": [
        "**10.3 Lasso**\n",
        "\n",
        "lasso is a regression analysis method that performs both variable selection and regularization in order to enhance the prediction performance and interpretability of the statistical model it produces."
      ]
    },
    {
      "cell_type": "code",
      "metadata": {
        "id": "wTVxhNap65n3",
        "colab_type": "code",
        "colab": {
          "base_uri": "https://localhost:8080/",
          "height": 85
        },
        "outputId": "cb5c9657-4dd2-4d4e-d6f5-0007db6c2282"
      },
      "source": [
        "from sklearn.linear_model import LassoCV\n",
        "Lasso_reg = LassoCV()\n",
        "Lasso_reg.fit(X_train, y_train)"
      ],
      "execution_count": 51,
      "outputs": [
        {
          "output_type": "execute_result",
          "data": {
            "text/plain": [
              "LassoCV(alphas=None, copy_X=True, cv=None, eps=0.001, fit_intercept=True,\n",
              "        max_iter=1000, n_alphas=100, n_jobs=None, normalize=False,\n",
              "        positive=False, precompute='auto', random_state=None,\n",
              "        selection='cyclic', tol=0.0001, verbose=False)"
            ]
          },
          "metadata": {
            "tags": []
          },
          "execution_count": 51
        }
      ]
    },
    {
      "cell_type": "code",
      "metadata": {
        "id": "E3VE6BUQ7Ia9",
        "colab_type": "code",
        "colab": {
          "base_uri": "https://localhost:8080/",
          "height": 68
        },
        "outputId": "8ac1f9d7-fc6e-416c-ee27-706b04088e51"
      },
      "source": [
        "y_pred = Lasso_reg.predict(X_test)\n",
        "print('The r-squared score of the Lasso regressor is',r2_score(y_test,y_pred))\n",
        "print('The Root mean squared error score of the Lasso regressor is',np.sqrt(mean_squared_error(y_test,y_pred)))\n",
        "print('The Mean absolute error score of the Lasso regressor is',mean_absolute_error(y_test,y_pred))\n",
        "r2_score_Lasso = r2_score(y_test,y_pred)"
      ],
      "execution_count": 52,
      "outputs": [
        {
          "output_type": "stream",
          "text": [
            "The r-squared score of the Lasso regressor is 0.725328814152624\n",
            "The Root mean squared error score of the Lasso regressor is 0.5282514601288935\n",
            "The Mean absolute error score of the Lasso regressor is 0.40990123383084165\n"
          ],
          "name": "stdout"
        }
      ]
    },
    {
      "cell_type": "code",
      "metadata": {
        "id": "EzcAbHS57TCw",
        "colab_type": "code",
        "colab": {
          "base_uri": "https://localhost:8080/",
          "height": 367
        },
        "outputId": "3dd33a2b-eba5-4694-d415-898981beee1d"
      },
      "source": [
        "plt.figure(figsize = (10,5))\n",
        "plt.scatter(y_test,y_pred,marker = '.')\n",
        "plt.title('prediction with Lasso')\n",
        "plt.xlabel('Actual values')\n",
        "plt.ylabel('Predicted values')"
      ],
      "execution_count": 53,
      "outputs": [
        {
          "output_type": "execute_result",
          "data": {
            "text/plain": [
              "Text(0, 0.5, 'Predicted values')"
            ]
          },
          "metadata": {
            "tags": []
          },
          "execution_count": 53
        },
        {
          "output_type": "display_data",
          "data": {
            "image/png": "[encoded data removed]",
            "text/plain": [
              "<Figure size 720x360 with 1 Axes>"
            ]
          },
          "metadata": {
            "tags": [],
            "needs_background": "light"
          }
        }
      ]
    },
    {
      "cell_type": "code",
      "metadata": {
        "id": "YcD6-hJ47xo9",
        "colab_type": "code",
        "colab": {
          "base_uri": "https://localhost:8080/",
          "height": 353
        },
        "outputId": "65ff2549-aec4-4979-f3f6-55e2eb95ec98"
      },
      "source": [
        "plt.figure(figsize = (10,5))\n",
        "sns.distplot((y_test - y_pred),bins = 50)\n",
        "plt.title('prediction with Lasso')"
      ],
      "execution_count": 54,
      "outputs": [
        {
          "output_type": "execute_result",
          "data": {
            "text/plain": [
              "Text(0.5, 1.0, 'prediction with Lasso')"
            ]
          },
          "metadata": {
            "tags": []
          },
          "execution_count": 54
        },
        {
          "output_type": "display_data",
          "data": {
            "image/png": "[encoded data removed]",
            "text/plain": [
              "<Figure size 720x360 with 1 Axes>"
            ]
          },
          "metadata": {
            "tags": [],
            "needs_background": "light"
          }
        }
      ]
    },
    {
      "cell_type": "markdown",
      "metadata": {
        "id": "_OQlgiWz8CuW",
        "colab_type": "text"
      },
      "source": [
        "We can see that prediction with the Lasso algorithm was not quite good, the performance decreased to 72.5 %,\n",
        "\n",
        "From the graph we can check the residual, it says that our residuals or the errors are not much normally ditributed, so we can conclude that Lasso is not the perfect algorithm for our model"
      ]
    },
    {
      "cell_type": "markdown",
      "metadata": {
        "id": "lB0pC32J9ucO",
        "colab_type": "text"
      },
      "source": [
        "**10.4 Random Forest Regression**\n",
        "\n",
        "Random forests are an ensemble learning method for classification, regression and other tasks that operate by constructing a multitude of decision trees at training time and outputting the class that is the mode of the classes (classification) or mean prediction (regression) of the individual trees. Random decision forests correct for decision trees' habit of overfitting to their training set"
      ]
    },
    {
      "cell_type": "code",
      "metadata": {
        "id": "1T_173A-Cw7u",
        "colab_type": "code",
        "colab": {
          "base_uri": "https://localhost:8080/",
          "height": 136
        },
        "outputId": "e2d8f87f-26ef-4078-aa7d-de014f4ab704"
      },
      "source": [
        "from sklearn.ensemble import RandomForestRegressor\n",
        "Randomforest_reg = RandomForestRegressor(n_estimators = 50)\n",
        "Randomforest_reg.fit(X_train, y_train)"
      ],
      "execution_count": 55,
      "outputs": [
        {
          "output_type": "execute_result",
          "data": {
            "text/plain": [
              "RandomForestRegressor(bootstrap=True, ccp_alpha=0.0, criterion='mse',\n",
              "                      max_depth=None, max_features='auto', max_leaf_nodes=None,\n",
              "                      max_samples=None, min_impurity_decrease=0.0,\n",
              "                      min_impurity_split=None, min_samples_leaf=1,\n",
              "                      min_samples_split=2, min_weight_fraction_leaf=0.0,\n",
              "                      n_estimators=50, n_jobs=None, oob_score=False,\n",
              "                      random_state=None, verbose=0, warm_start=False)"
            ]
          },
          "metadata": {
            "tags": []
          },
          "execution_count": 55
        }
      ]
    },
    {
      "cell_type": "code",
      "metadata": {
        "id": "YBP14q8kDuUo",
        "colab_type": "code",
        "colab": {
          "base_uri": "https://localhost:8080/",
          "height": 68
        },
        "outputId": "d1ef174c-08c1-4ae2-f70e-8d5ad7547a8d"
      },
      "source": [
        "y_pred = Randomforest_reg.predict(X_test)\n",
        "print('The r-squared score of the RandomForest regressor is',r2_score(y_test,y_pred))\n",
        "print('The Root mean squared error score of the RandomForest regressor is',np.sqrt(mean_squared_error(y_test,y_pred)))\n",
        "print('The Mean absolute error score of the RandomForest regressor is',mean_absolute_error(y_test,y_pred))\n",
        "r2_score_RandomForest = r2_score(y_test,y_pred)"
      ],
      "execution_count": 56,
      "outputs": [
        {
          "output_type": "stream",
          "text": [
            "The r-squared score of the RandomForest regressor is 0.9503605101615756\n",
            "The Root mean squared error score of the RandomForest regressor is 0.22456796816717575\n",
            "The Mean absolute error score of the RandomForest regressor is 0.1605999862251819\n"
          ],
          "name": "stdout"
        }
      ]
    },
    {
      "cell_type": "code",
      "metadata": {
        "id": "GtXtmpY5Dzxg",
        "colab_type": "code",
        "colab": {
          "base_uri": "https://localhost:8080/",
          "height": 367
        },
        "outputId": "04bed2ea-f95b-4140-aa63-b5715273ca94"
      },
      "source": [
        "plt.figure(figsize = (10,5))\n",
        "plt.scatter(y_test,y_pred,marker = '.')\n",
        "plt.title('prediction with RandomForest')\n",
        "plt.xlabel('Actual values')\n",
        "plt.ylabel('Predicted values')"
      ],
      "execution_count": 57,
      "outputs": [
        {
          "output_type": "execute_result",
          "data": {
            "text/plain": [
              "Text(0, 0.5, 'Predicted values')"
            ]
          },
          "metadata": {
            "tags": []
          },
          "execution_count": 57
        },
        {
          "output_type": "display_data",
          "data": {
            "image/png": "[encoded data removed]",
            "text/plain": [
              "<Figure size 720x360 with 1 Axes>"
            ]
          },
          "metadata": {
            "tags": [],
            "needs_background": "light"
          }
        }
      ]
    },
    {
      "cell_type": "code",
      "metadata": {
        "id": "af9eIuOrD3Rc",
        "colab_type": "code",
        "colab": {
          "base_uri": "https://localhost:8080/",
          "height": 353
        },
        "outputId": "e5464fa8-407a-4f84-8e41-660c59a65000"
      },
      "source": [
        "plt.figure(figsize = (10,5))\n",
        "sns.distplot((y_test - y_pred),bins = 50)\n",
        "plt.title('prediction with RandomForest')"
      ],
      "execution_count": 58,
      "outputs": [
        {
          "output_type": "execute_result",
          "data": {
            "text/plain": [
              "Text(0.5, 1.0, 'prediction with RandomForest')"
            ]
          },
          "metadata": {
            "tags": []
          },
          "execution_count": 58
        },
        {
          "output_type": "display_data",
          "data": {
            "image/png": "[encoded data removed]",
            "text/plain": [
              "<Figure size 720x360 with 1 Axes>"
            ]
          },
          "metadata": {
            "tags": [],
            "needs_background": "light"
          }
        }
      ]
    },
    {
      "cell_type": "markdown",
      "metadata": {
        "id": "q8zAL8XP3QIp",
        "colab_type": "text"
      },
      "source": [
        "We can that randon forest regressor algorithm made a best fit to our dataset compared to all other algorithms. Its performace was greater than 95%.\n",
        "\n",
        "From the graph we can check the residual, it says that our residuals or the errors are more normally ditributed when compared to all other algorithms.\n",
        "\n",
        "Lets analyse scores of every algorithms with the help of bar graph"
      ]
    },
    {
      "cell_type": "code",
      "metadata": {
        "id": "Uho1wpNEMUWb",
        "colab_type": "code",
        "colab": {
          "base_uri": "https://localhost:8080/",
          "height": 324
        },
        "outputId": "5b117ce5-4a37-4792-9cda-44aaa2b03e1b"
      },
      "source": [
        "plt.figure(figsize = (10,5))\n",
        "plt.ylim((0.65,1.0))\n",
        "plt.plot(['Lasso','SVR','decisionTreeRegressor','RandomForest'],[r2_score_Lasso,r2_score_SVR,r2_score_Decision_tree,r2_score_RandomForest])\n",
        "plt.grid(True)"
      ],
      "execution_count": 59,
      "outputs": [
        {
          "output_type": "display_data",
          "data": {
            "image/png": "[encoded data removed]",
            "text/plain": [
              "<Figure size 720x360 with 1 Axes>"
            ]
          },
          "metadata": {
            "tags": [],
            "needs_background": "light"
          }
        }
      ]
    },
    {
      "cell_type": "markdown",
      "metadata": {
        "id": "q0VdAEahM34K",
        "colab_type": "text"
      },
      "source": [
        "From the above graph we can see that almost every algorithms performed well with out dataset. Performance of Lasso Regressor was lower compared to other algorithms, RandomForest algorithm gave the best performance compared to all other algorithms. So i would like to conclude that random forest regressor is beter algorithm for Car features and MSRP dataset"
      ]
    }
  ]
}